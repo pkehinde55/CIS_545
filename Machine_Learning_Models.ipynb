{
  "cells": [
    {
      "cell_type": "markdown",
      "metadata": {
        "id": "view-in-github",
        "colab_type": "text"
      },
      "source": [
        "<a href=\"https://colab.research.google.com/github/pkehinde55/CIS_545/blob/main/Machine_Learning_Models.ipynb\" target=\"_parent\"><img src=\"https://colab.research.google.com/assets/colab-badge.svg\" alt=\"Open In Colab\"/></a>"
      ]
    },
    {
      "cell_type": "markdown",
      "metadata": {
        "id": "I2L0PkeSIuOD"
      },
      "source": [
        "# CIS 5450 Homework 4: Machine Learning\n",
        "\n",
        "<ins>Due Date</ins>: **April 4th at 10:00PM EST** \\\\\n",
        "<ins>Total Points</ins>: **100 points** (= 83 autograded + 17 manually graded)\n",
        "\n",
        "**PLEASE READ THE FAQ as you do this assignment!** It's pinned on Ed and we TAs work really hard to keep it updated with everything you might need to know or anything we might have failed to specify. Writing these HWs and test cases gets tricky since students always end up implementing solutions that we did not anticipate and thus could not have prepared the grader correctly for."
      ]
    },
    {
      "cell_type": "markdown",
      "metadata": {
        "id": "ETZ9CDIDLYHp"
      },
      "source": [
        "# Imports/Setup\n",
        "Run the following cells to set up the notebook.\n"
      ]
    },
    {
      "cell_type": "markdown",
      "metadata": {
        "id": "eEUIzvEuMdGQ"
      },
      "source": [
        "Please make sure you enter your **8 digit Penn ID** in the  student ID field below."
      ]
    },
    {
      "cell_type": "code",
      "execution_count": null,
      "metadata": {
        "id": "adECTPlZLtVi"
      },
      "outputs": [],
      "source": [
        "%%capture\n",
        "!pip install -i https://test.pypi.org/simple/ penn-grader==0.5.0\n",
        "from penngrader.grader import *\n",
        "\n",
        "# PLEASE ENSURE YOUR PENN-ID IS ENTERED CORRECTLY.\n",
        "# IF NOT, THE AUTOGRADER WON'T KNOW WHO TO ASSIGN POINTS TO YOU IN OUR BACKEND\n",
        "STUDENT_ID = 59331140                                                                   # YOUR PENN-ID GOES HERE AS AN INTEGER"
      ]
    },
    {
      "cell_type": "code",
      "execution_count": null,
      "metadata": {
        "colab": {
          "base_uri": "https://localhost:8080/"
        },
        "id": "JAWRpROskV1E",
        "outputId": "f857da40-0f71-4194-a196-66944330f086"
      },
      "outputs": [
        {
          "name": "stdout",
          "output_type": "stream",
          "text": [
            "Writing config.yaml\n"
          ]
        }
      ],
      "source": [
        "%%writefile config.yaml\n",
        "\n",
        "grader_api_url: 'https://wyv616tp17.execute-api.us-east-1.amazonaws.com/default/Grader'\n",
        "grader_api_key: 'Kd32fl3g3p917iM0zwjiO23Bitj4PO9ga4LektOa'"
      ]
    },
    {
      "cell_type": "code",
      "execution_count": null,
      "metadata": {
        "colab": {
          "base_uri": "https://localhost:8080/"
        },
        "id": "IiUMGpQukYHj",
        "outputId": "e4836d3b-4982-4706-933e-8f5d3d25c8dd"
      },
      "outputs": [
        {
          "name": "stdout",
          "output_type": "stream",
          "text": [
            "PennGrader initialized with Student ID: 59331140\n",
            "\n",
            "Make sure this correct or we will not be able to store your grade\n"
          ]
        }
      ],
      "source": [
        "grader = PennGrader('config.yaml', 'CIS5450_23Sp_HW4', STUDENT_ID, STUDENT_ID)"
      ]
    },
    {
      "cell_type": "code",
      "execution_count": null,
      "metadata": {
        "id": "TBTaESEdMmiU"
      },
      "outputs": [],
      "source": [
        "# import packages\n",
        "import json\n",
        "import glob\n",
        "import pandas as pd\n",
        "import numpy as np\n",
        "import datetime as dt\n",
        "import re\n",
        "import os\n",
        "import matplotlib.pyplot as plt\n",
        "import seaborn as sns\n",
        "from matplotlib import cm\n",
        "from google.colab import drive\n",
        "from sklearn.model_selection import train_test_split\n",
        "from collections import Counter\n",
        "import seaborn as sns"
      ]
    },
    {
      "cell_type": "code",
      "execution_count": null,
      "metadata": {
        "id": "tA6oTIZtRjf7"
      },
      "outputs": [],
      "source": [
        "%%capture\n",
        "!apt update\n",
        "!pip install kaggle"
      ]
    },
    {
      "cell_type": "markdown",
      "metadata": {
        "id": "odlXF5IYJ-et"
      },
      "source": [
        "# **Part I:** Preprocessing and Modeling in `scikit-learn` (65 points)"
      ]
    },
    {
      "cell_type": "markdown",
      "metadata": {
        "id": "_XSw-F5VjVKI"
      },
      "source": [
        "## **1.1** Data Loading and Preprocessing [Total: 2 points]"
      ]
    },
    {
      "cell_type": "markdown",
      "metadata": {
        "id": "1Sw7LCAacKOu"
      },
      "source": [
        "### **1.1.1** Read Data\n",
        "\n",
        "We are using one CSV for this homework, `Hotel Reservations.csv` from a Kaggle [dataset](https://www.kaggle.com/datasets/ahsan81/hotel-reservations-classification-dataset?resource=download). The dataset contains a column called `booking_status`, a binary variable indicating whether a reservation was canceled or not.\n",
        "\n",
        "To get the data in here:\n",
        "1. Go to this [Kaggle link](https://www.kaggle.com) and create a Kaggle account (unless you already have one)\n",
        "2. Go to Account and click on \"Create New API Token\" to get the API key in the form of a json file `kaggle.json`\n",
        "3. Upload the `kaggle.json` file to the default location in your Google Drive (Please **DO NOT** upload the json file into any _specific_ folder as it will be difficult for us to debug issues if you deviate from these instructions!).\n",
        "\n",
        "This can be helpful for your project if you decide to use Kaggle."
      ]
    },
    {
      "cell_type": "code",
      "execution_count": null,
      "metadata": {
        "colab": {
          "base_uri": "https://localhost:8080/"
        },
        "id": "RGz24WQ86ptM",
        "outputId": "0899bd26-636c-4093-861a-851fab3bd56c"
      },
      "outputs": [
        {
          "name": "stdout",
          "output_type": "stream",
          "text": [
            "Mounted at /content/drive\n"
          ]
        }
      ],
      "source": [
        "# Run this cell to mount your drive (you will be prompted to sign in)\n",
        "from google.colab import drive\n",
        "drive.mount('/content/drive')"
      ]
    },
    {
      "cell_type": "code",
      "execution_count": null,
      "metadata": {
        "id": "R4taOIpPb6CN"
      },
      "outputs": [],
      "source": [
        "# Create the kaggle directory and\n",
        "# (NOTE: Do NOT run this cell more than once unless restarting kernel)\n",
        "!mkdir ~/.kaggle"
      ]
    },
    {
      "cell_type": "code",
      "execution_count": null,
      "metadata": {
        "id": "uO1UNkV6cbxA"
      },
      "outputs": [],
      "source": [
        "# Read the uploaded kaggle.json file\n",
        "!cp /content/drive/MyDrive/kaggle.json ~/.kaggle/"
      ]
    },
    {
      "cell_type": "code",
      "execution_count": null,
      "metadata": {
        "colab": {
          "base_uri": "https://localhost:8080/"
        },
        "id": "krFCjQBzcdth",
        "outputId": "c12506a5-bc38-45c4-bfa6-dbf14b3c8a4f"
      },
      "outputs": [
        {
          "data": {
            "text/plain": [
              "['Downloading hotel-reservations-classification-dataset.zip to /content',\n",
              " '',\n",
              " '  0% 0.00/480k [00:00<?, ?B/s]',\n",
              " '',\n",
              " '100% 480k/480k [00:00<00:00, 43.6MB/s]']"
            ]
          },
          "execution_count": 9,
          "metadata": {},
          "output_type": "execute_result"
        }
      ],
      "source": [
        "# Download dataset\n",
        "!!kaggle datasets download -d ahsan81/hotel-reservations-classification-dataset"
      ]
    },
    {
      "cell_type": "code",
      "execution_count": null,
      "metadata": {
        "colab": {
          "base_uri": "https://localhost:8080/"
        },
        "id": "y1e75jxBctPG",
        "outputId": "13acf1b7-7a17-458f-be16-2ad852b8b70a"
      },
      "outputs": [
        {
          "name": "stdout",
          "output_type": "stream",
          "text": [
            "Archive:  /content/hotel-reservations-classification-dataset.zip\n",
            "  inflating: Hotel Reservations.csv  \n"
          ]
        }
      ],
      "source": [
        "# Unzip folder in Colab content folder\n",
        "!unzip /content/hotel-reservations-classification-dataset.zip"
      ]
    },
    {
      "cell_type": "code",
      "execution_count": null,
      "metadata": {
        "id": "PB4RPNywcKOv"
      },
      "outputs": [],
      "source": [
        "# TO-DO: Read the csv file and save it to a dataframe called \"df_reservations\"\n",
        "df_reservations = pd.read_csv('Hotel Reservations.csv')"
      ]
    },
    {
      "cell_type": "code",
      "execution_count": null,
      "metadata": {
        "colab": {
          "base_uri": "https://localhost:8080/",
          "height": 256
        },
        "id": "u0FYkm8pkQGu",
        "outputId": "a1776754-d8b3-4575-cd84-6388f77278c0"
      },
      "outputs": [
        {
          "data": {
            "text/html": [
              "\n",
              "  <div id=\"df-4071bf88-892b-4f17-bb6d-bb28e268a77e\">\n",
              "    <div class=\"colab-df-container\">\n",
              "      <div>\n",
              "<style scoped>\n",
              "    .dataframe tbody tr th:only-of-type {\n",
              "        vertical-align: middle;\n",
              "    }\n",
              "\n",
              "    .dataframe tbody tr th {\n",
              "        vertical-align: top;\n",
              "    }\n",
              "\n",
              "    .dataframe thead th {\n",
              "        text-align: right;\n",
              "    }\n",
              "</style>\n",
              "<table border=\"1\" class=\"dataframe\">\n",
              "  <thead>\n",
              "    <tr style=\"text-align: right;\">\n",
              "      <th></th>\n",
              "      <th>Booking_ID</th>\n",
              "      <th>no_of_adults</th>\n",
              "      <th>no_of_children</th>\n",
              "      <th>no_of_weekend_nights</th>\n",
              "      <th>no_of_week_nights</th>\n",
              "      <th>type_of_meal_plan</th>\n",
              "      <th>required_car_parking_space</th>\n",
              "      <th>room_type_reserved</th>\n",
              "      <th>lead_time</th>\n",
              "      <th>arrival_year</th>\n",
              "      <th>arrival_month</th>\n",
              "      <th>arrival_date</th>\n",
              "      <th>market_segment_type</th>\n",
              "      <th>repeated_guest</th>\n",
              "      <th>no_of_previous_cancellations</th>\n",
              "      <th>no_of_previous_bookings_not_canceled</th>\n",
              "      <th>avg_price_per_room</th>\n",
              "      <th>no_of_special_requests</th>\n",
              "      <th>booking_status</th>\n",
              "    </tr>\n",
              "  </thead>\n",
              "  <tbody>\n",
              "    <tr>\n",
              "      <th>0</th>\n",
              "      <td>INN00001</td>\n",
              "      <td>2</td>\n",
              "      <td>0</td>\n",
              "      <td>1</td>\n",
              "      <td>2</td>\n",
              "      <td>Meal Plan 1</td>\n",
              "      <td>0</td>\n",
              "      <td>Room_Type 1</td>\n",
              "      <td>224</td>\n",
              "      <td>2017</td>\n",
              "      <td>10</td>\n",
              "      <td>2</td>\n",
              "      <td>Offline</td>\n",
              "      <td>0</td>\n",
              "      <td>0</td>\n",
              "      <td>0</td>\n",
              "      <td>65.00</td>\n",
              "      <td>0</td>\n",
              "      <td>Not_Canceled</td>\n",
              "    </tr>\n",
              "    <tr>\n",
              "      <th>1</th>\n",
              "      <td>INN00002</td>\n",
              "      <td>2</td>\n",
              "      <td>0</td>\n",
              "      <td>2</td>\n",
              "      <td>3</td>\n",
              "      <td>Not Selected</td>\n",
              "      <td>0</td>\n",
              "      <td>Room_Type 1</td>\n",
              "      <td>5</td>\n",
              "      <td>2018</td>\n",
              "      <td>11</td>\n",
              "      <td>6</td>\n",
              "      <td>Online</td>\n",
              "      <td>0</td>\n",
              "      <td>0</td>\n",
              "      <td>0</td>\n",
              "      <td>106.68</td>\n",
              "      <td>1</td>\n",
              "      <td>Not_Canceled</td>\n",
              "    </tr>\n",
              "    <tr>\n",
              "      <th>2</th>\n",
              "      <td>INN00003</td>\n",
              "      <td>1</td>\n",
              "      <td>0</td>\n",
              "      <td>2</td>\n",
              "      <td>1</td>\n",
              "      <td>Meal Plan 1</td>\n",
              "      <td>0</td>\n",
              "      <td>Room_Type 1</td>\n",
              "      <td>1</td>\n",
              "      <td>2018</td>\n",
              "      <td>2</td>\n",
              "      <td>28</td>\n",
              "      <td>Online</td>\n",
              "      <td>0</td>\n",
              "      <td>0</td>\n",
              "      <td>0</td>\n",
              "      <td>60.00</td>\n",
              "      <td>0</td>\n",
              "      <td>Canceled</td>\n",
              "    </tr>\n",
              "    <tr>\n",
              "      <th>3</th>\n",
              "      <td>INN00004</td>\n",
              "      <td>2</td>\n",
              "      <td>0</td>\n",
              "      <td>0</td>\n",
              "      <td>2</td>\n",
              "      <td>Meal Plan 1</td>\n",
              "      <td>0</td>\n",
              "      <td>Room_Type 1</td>\n",
              "      <td>211</td>\n",
              "      <td>2018</td>\n",
              "      <td>5</td>\n",
              "      <td>20</td>\n",
              "      <td>Online</td>\n",
              "      <td>0</td>\n",
              "      <td>0</td>\n",
              "      <td>0</td>\n",
              "      <td>100.00</td>\n",
              "      <td>0</td>\n",
              "      <td>Canceled</td>\n",
              "    </tr>\n",
              "    <tr>\n",
              "      <th>4</th>\n",
              "      <td>INN00005</td>\n",
              "      <td>2</td>\n",
              "      <td>0</td>\n",
              "      <td>1</td>\n",
              "      <td>1</td>\n",
              "      <td>Not Selected</td>\n",
              "      <td>0</td>\n",
              "      <td>Room_Type 1</td>\n",
              "      <td>48</td>\n",
              "      <td>2018</td>\n",
              "      <td>4</td>\n",
              "      <td>11</td>\n",
              "      <td>Online</td>\n",
              "      <td>0</td>\n",
              "      <td>0</td>\n",
              "      <td>0</td>\n",
              "      <td>94.50</td>\n",
              "      <td>0</td>\n",
              "      <td>Canceled</td>\n",
              "    </tr>\n",
              "  </tbody>\n",
              "</table>\n",
              "</div>\n",
              "      <button class=\"colab-df-convert\" onclick=\"convertToInteractive('df-4071bf88-892b-4f17-bb6d-bb28e268a77e')\"\n",
              "              title=\"Convert this dataframe to an interactive table.\"\n",
              "              style=\"display:none;\">\n",
              "        \n",
              "  <svg xmlns=\"http://www.w3.org/2000/svg\" height=\"24px\"viewBox=\"0 0 24 24\"\n",
              "       width=\"24px\">\n",
              "    <path d=\"M0 0h24v24H0V0z\" fill=\"none\"/>\n",
              "    <path d=\"M18.56 5.44l.94 2.06.94-2.06 2.06-.94-2.06-.94-.94-2.06-.94 2.06-2.06.94zm-11 1L8.5 8.5l.94-2.06 2.06-.94-2.06-.94L8.5 2.5l-.94 2.06-2.06.94zm10 10l.94 2.06.94-2.06 2.06-.94-2.06-.94-.94-2.06-.94 2.06-2.06.94z\"/><path d=\"M17.41 7.96l-1.37-1.37c-.4-.4-.92-.59-1.43-.59-.52 0-1.04.2-1.43.59L10.3 9.45l-7.72 7.72c-.78.78-.78 2.05 0 2.83L4 21.41c.39.39.9.59 1.41.59.51 0 1.02-.2 1.41-.59l7.78-7.78 2.81-2.81c.8-.78.8-2.07 0-2.86zM5.41 20L4 18.59l7.72-7.72 1.47 1.35L5.41 20z\"/>\n",
              "  </svg>\n",
              "      </button>\n",
              "      \n",
              "  <style>\n",
              "    .colab-df-container {\n",
              "      display:flex;\n",
              "      flex-wrap:wrap;\n",
              "      gap: 12px;\n",
              "    }\n",
              "\n",
              "    .colab-df-convert {\n",
              "      background-color: #E8F0FE;\n",
              "      border: none;\n",
              "      border-radius: 50%;\n",
              "      cursor: pointer;\n",
              "      display: none;\n",
              "      fill: #1967D2;\n",
              "      height: 32px;\n",
              "      padding: 0 0 0 0;\n",
              "      width: 32px;\n",
              "    }\n",
              "\n",
              "    .colab-df-convert:hover {\n",
              "      background-color: #E2EBFA;\n",
              "      box-shadow: 0px 1px 2px rgba(60, 64, 67, 0.3), 0px 1px 3px 1px rgba(60, 64, 67, 0.15);\n",
              "      fill: #174EA6;\n",
              "    }\n",
              "\n",
              "    [theme=dark] .colab-df-convert {\n",
              "      background-color: #3B4455;\n",
              "      fill: #D2E3FC;\n",
              "    }\n",
              "\n",
              "    [theme=dark] .colab-df-convert:hover {\n",
              "      background-color: #434B5C;\n",
              "      box-shadow: 0px 1px 3px 1px rgba(0, 0, 0, 0.15);\n",
              "      filter: drop-shadow(0px 1px 2px rgba(0, 0, 0, 0.3));\n",
              "      fill: #FFFFFF;\n",
              "    }\n",
              "  </style>\n",
              "\n",
              "      <script>\n",
              "        const buttonEl =\n",
              "          document.querySelector('#df-4071bf88-892b-4f17-bb6d-bb28e268a77e button.colab-df-convert');\n",
              "        buttonEl.style.display =\n",
              "          google.colab.kernel.accessAllowed ? 'block' : 'none';\n",
              "\n",
              "        async function convertToInteractive(key) {\n",
              "          const element = document.querySelector('#df-4071bf88-892b-4f17-bb6d-bb28e268a77e');\n",
              "          const dataTable =\n",
              "            await google.colab.kernel.invokeFunction('convertToInteractive',\n",
              "                                                     [key], {});\n",
              "          if (!dataTable) return;\n",
              "\n",
              "          const docLinkHtml = 'Like what you see? Visit the ' +\n",
              "            '<a target=\"_blank\" href=https://colab.research.google.com/notebooks/data_table.ipynb>data table notebook</a>'\n",
              "            + ' to learn more about interactive tables.';\n",
              "          element.innerHTML = '';\n",
              "          dataTable['output_type'] = 'display_data';\n",
              "          await google.colab.output.renderOutput(dataTable, element);\n",
              "          const docLink = document.createElement('div');\n",
              "          docLink.innerHTML = docLinkHtml;\n",
              "          element.appendChild(docLink);\n",
              "        }\n",
              "      </script>\n",
              "    </div>\n",
              "  </div>\n",
              "  "
            ],
            "text/plain": [
              "  Booking_ID  no_of_adults  no_of_children  no_of_weekend_nights  \\\n",
              "0   INN00001             2               0                     1   \n",
              "1   INN00002             2               0                     2   \n",
              "2   INN00003             1               0                     2   \n",
              "3   INN00004             2               0                     0   \n",
              "4   INN00005             2               0                     1   \n",
              "\n",
              "   no_of_week_nights type_of_meal_plan  required_car_parking_space  \\\n",
              "0                  2       Meal Plan 1                           0   \n",
              "1                  3      Not Selected                           0   \n",
              "2                  1       Meal Plan 1                           0   \n",
              "3                  2       Meal Plan 1                           0   \n",
              "4                  1      Not Selected                           0   \n",
              "\n",
              "  room_type_reserved  lead_time  arrival_year  arrival_month  arrival_date  \\\n",
              "0        Room_Type 1        224          2017             10             2   \n",
              "1        Room_Type 1          5          2018             11             6   \n",
              "2        Room_Type 1          1          2018              2            28   \n",
              "3        Room_Type 1        211          2018              5            20   \n",
              "4        Room_Type 1         48          2018              4            11   \n",
              "\n",
              "  market_segment_type  repeated_guest  no_of_previous_cancellations  \\\n",
              "0             Offline               0                             0   \n",
              "1              Online               0                             0   \n",
              "2              Online               0                             0   \n",
              "3              Online               0                             0   \n",
              "4              Online               0                             0   \n",
              "\n",
              "   no_of_previous_bookings_not_canceled  avg_price_per_room  \\\n",
              "0                                     0               65.00   \n",
              "1                                     0              106.68   \n",
              "2                                     0               60.00   \n",
              "3                                     0              100.00   \n",
              "4                                     0               94.50   \n",
              "\n",
              "   no_of_special_requests booking_status  \n",
              "0                       0   Not_Canceled  \n",
              "1                       1   Not_Canceled  \n",
              "2                       0       Canceled  \n",
              "3                       0       Canceled  \n",
              "4                       0       Canceled  "
            ]
          },
          "execution_count": 12,
          "metadata": {},
          "output_type": "execute_result"
        }
      ],
      "source": [
        "# CHECK: Peak at the first five rows\n",
        "df_reservations.head(5)"
      ]
    },
    {
      "cell_type": "markdown",
      "metadata": {
        "id": "cJ9m-tIgiYRe"
      },
      "source": [
        "### **1.1.2** Check Nulls and Duplicates\n",
        "\n",
        "We will find the number of rows with null values and the number of duplicated rows.\n",
        "\n",
        "Store the results into `num_nulls` and `num_dups`, respectively.\n",
        "\n",
        "**Please use pandas functions to compute these values instead of hardcoding them.**"
      ]
    },
    {
      "cell_type": "code",
      "execution_count": null,
      "metadata": {
        "id": "LkLzEgHWOcEU"
      },
      "outputs": [],
      "source": [
        "# TO-DO: find number of rows with null values\n",
        "num_nulls = df_reservations.isna().any(axis=1).sum()"
      ]
    },
    {
      "cell_type": "code",
      "execution_count": null,
      "metadata": {
        "id": "jLehMDouqJsH"
      },
      "outputs": [],
      "source": [
        "# TO-DO: find number of duplicated rows\n",
        "num_dups = len(df_reservations)-len(df_reservations.drop_duplicates())"
      ]
    },
    {
      "cell_type": "code",
      "execution_count": null,
      "metadata": {
        "colab": {
          "base_uri": "https://localhost:8080/"
        },
        "id": "IYhoktAQi1eq",
        "outputId": "f40fa257-2eaf-4ad5-df59-34d158a73c48"
      },
      "outputs": [
        {
          "name": "stdout",
          "output_type": "stream",
          "text": [
            "Correct! You earned 2/2 points. You are a star!\n",
            "\n",
            "Your submission has been successfully recorded in the gradebook.\n"
          ]
        }
      ],
      "source": [
        "#Grader Cell (2 points)\n",
        "grader.grade(test_case_id = 'drop_null_and_dups', answer = (num_nulls, num_dups))"
      ]
    },
    {
      "cell_type": "markdown",
      "metadata": {
        "id": "LsDRMCdfkACq"
      },
      "source": [
        "## **1.2** EDA [Total: 16 points]\n",
        "\n",
        "Exploratory Data Analysis (EDA) is an approach to analyzing data sets to summarize their main characteristics, often with visual methods. A statistical model can be used or not, but primarily EDA is for seeing what the data can tell us beyond the formal modeling or hypothesis testing task.\n"
      ]
    },
    {
      "cell_type": "markdown",
      "metadata": {
        "id": "ngsCDv0RkCKf"
      },
      "source": [
        "### **1.2.1** Understanding Data\n",
        "\n",
        "A good practice before approaching any data science problem, is to understand the data you will be working with. This can be through descriptive statistics, datatypes, or just a quick tabular visualization. We will be walking through such tasks through Pandas.\n",
        "\n",
        "While not explicitly graded, if you don't do this, you are more likely to make mistakes down the line if you don't have a good understanding of your datasets and their range of values."
      ]
    },
    {
      "cell_type": "code",
      "execution_count": null,
      "metadata": {
        "colab": {
          "base_uri": "https://localhost:8080/"
        },
        "id": "P60Qyz-okvxk",
        "outputId": "dc7b9071-f77e-4d99-f5ac-4492b83f6cc2"
      },
      "outputs": [
        {
          "data": {
            "text/plain": [
              "Booking_ID                               object\n",
              "no_of_adults                              int64\n",
              "no_of_children                            int64\n",
              "no_of_weekend_nights                      int64\n",
              "no_of_week_nights                         int64\n",
              "type_of_meal_plan                        object\n",
              "required_car_parking_space                int64\n",
              "room_type_reserved                       object\n",
              "lead_time                                 int64\n",
              "arrival_year                              int64\n",
              "arrival_month                             int64\n",
              "arrival_date                              int64\n",
              "market_segment_type                      object\n",
              "repeated_guest                            int64\n",
              "no_of_previous_cancellations              int64\n",
              "no_of_previous_bookings_not_canceled      int64\n",
              "avg_price_per_room                      float64\n",
              "no_of_special_requests                    int64\n",
              "booking_status                           object\n",
              "dtype: object"
            ]
          },
          "execution_count": 16,
          "metadata": {},
          "output_type": "execute_result"
        }
      ],
      "source": [
        "# Display the datatypes in `df_reservations`\n",
        "df_reservations.dtypes"
      ]
    },
    {
      "cell_type": "code",
      "execution_count": null,
      "metadata": {
        "colab": {
          "base_uri": "https://localhost:8080/",
          "height": 349
        },
        "id": "7kIN2As8lIkn",
        "outputId": "e75c40a5-337f-4386-c63d-781d6a79bb20"
      },
      "outputs": [
        {
          "data": {
            "text/html": [
              "\n",
              "  <div id=\"df-7d1b725f-af67-4b32-90c9-4d246383b7a6\">\n",
              "    <div class=\"colab-df-container\">\n",
              "      <div>\n",
              "<style scoped>\n",
              "    .dataframe tbody tr th:only-of-type {\n",
              "        vertical-align: middle;\n",
              "    }\n",
              "\n",
              "    .dataframe tbody tr th {\n",
              "        vertical-align: top;\n",
              "    }\n",
              "\n",
              "    .dataframe thead th {\n",
              "        text-align: right;\n",
              "    }\n",
              "</style>\n",
              "<table border=\"1\" class=\"dataframe\">\n",
              "  <thead>\n",
              "    <tr style=\"text-align: right;\">\n",
              "      <th></th>\n",
              "      <th>no_of_adults</th>\n",
              "      <th>no_of_children</th>\n",
              "      <th>no_of_weekend_nights</th>\n",
              "      <th>no_of_week_nights</th>\n",
              "      <th>required_car_parking_space</th>\n",
              "      <th>lead_time</th>\n",
              "      <th>arrival_year</th>\n",
              "      <th>arrival_month</th>\n",
              "      <th>arrival_date</th>\n",
              "      <th>repeated_guest</th>\n",
              "      <th>no_of_previous_cancellations</th>\n",
              "      <th>no_of_previous_bookings_not_canceled</th>\n",
              "      <th>avg_price_per_room</th>\n",
              "      <th>no_of_special_requests</th>\n",
              "    </tr>\n",
              "  </thead>\n",
              "  <tbody>\n",
              "    <tr>\n",
              "      <th>count</th>\n",
              "      <td>36275.000000</td>\n",
              "      <td>36275.000000</td>\n",
              "      <td>36275.000000</td>\n",
              "      <td>36275.000000</td>\n",
              "      <td>36275.000000</td>\n",
              "      <td>36275.000000</td>\n",
              "      <td>36275.000000</td>\n",
              "      <td>36275.000000</td>\n",
              "      <td>36275.000000</td>\n",
              "      <td>36275.000000</td>\n",
              "      <td>36275.000000</td>\n",
              "      <td>36275.000000</td>\n",
              "      <td>36275.000000</td>\n",
              "      <td>36275.000000</td>\n",
              "    </tr>\n",
              "    <tr>\n",
              "      <th>mean</th>\n",
              "      <td>1.844962</td>\n",
              "      <td>0.105279</td>\n",
              "      <td>0.810724</td>\n",
              "      <td>2.204300</td>\n",
              "      <td>0.030986</td>\n",
              "      <td>85.232557</td>\n",
              "      <td>2017.820427</td>\n",
              "      <td>7.423653</td>\n",
              "      <td>15.596995</td>\n",
              "      <td>0.025637</td>\n",
              "      <td>0.023349</td>\n",
              "      <td>0.153411</td>\n",
              "      <td>103.423539</td>\n",
              "      <td>0.619655</td>\n",
              "    </tr>\n",
              "    <tr>\n",
              "      <th>std</th>\n",
              "      <td>0.518715</td>\n",
              "      <td>0.402648</td>\n",
              "      <td>0.870644</td>\n",
              "      <td>1.410905</td>\n",
              "      <td>0.173281</td>\n",
              "      <td>85.930817</td>\n",
              "      <td>0.383836</td>\n",
              "      <td>3.069894</td>\n",
              "      <td>8.740447</td>\n",
              "      <td>0.158053</td>\n",
              "      <td>0.368331</td>\n",
              "      <td>1.754171</td>\n",
              "      <td>35.089424</td>\n",
              "      <td>0.786236</td>\n",
              "    </tr>\n",
              "    <tr>\n",
              "      <th>min</th>\n",
              "      <td>0.000000</td>\n",
              "      <td>0.000000</td>\n",
              "      <td>0.000000</td>\n",
              "      <td>0.000000</td>\n",
              "      <td>0.000000</td>\n",
              "      <td>0.000000</td>\n",
              "      <td>2017.000000</td>\n",
              "      <td>1.000000</td>\n",
              "      <td>1.000000</td>\n",
              "      <td>0.000000</td>\n",
              "      <td>0.000000</td>\n",
              "      <td>0.000000</td>\n",
              "      <td>0.000000</td>\n",
              "      <td>0.000000</td>\n",
              "    </tr>\n",
              "    <tr>\n",
              "      <th>25%</th>\n",
              "      <td>2.000000</td>\n",
              "      <td>0.000000</td>\n",
              "      <td>0.000000</td>\n",
              "      <td>1.000000</td>\n",
              "      <td>0.000000</td>\n",
              "      <td>17.000000</td>\n",
              "      <td>2018.000000</td>\n",
              "      <td>5.000000</td>\n",
              "      <td>8.000000</td>\n",
              "      <td>0.000000</td>\n",
              "      <td>0.000000</td>\n",
              "      <td>0.000000</td>\n",
              "      <td>80.300000</td>\n",
              "      <td>0.000000</td>\n",
              "    </tr>\n",
              "    <tr>\n",
              "      <th>50%</th>\n",
              "      <td>2.000000</td>\n",
              "      <td>0.000000</td>\n",
              "      <td>1.000000</td>\n",
              "      <td>2.000000</td>\n",
              "      <td>0.000000</td>\n",
              "      <td>57.000000</td>\n",
              "      <td>2018.000000</td>\n",
              "      <td>8.000000</td>\n",
              "      <td>16.000000</td>\n",
              "      <td>0.000000</td>\n",
              "      <td>0.000000</td>\n",
              "      <td>0.000000</td>\n",
              "      <td>99.450000</td>\n",
              "      <td>0.000000</td>\n",
              "    </tr>\n",
              "    <tr>\n",
              "      <th>75%</th>\n",
              "      <td>2.000000</td>\n",
              "      <td>0.000000</td>\n",
              "      <td>2.000000</td>\n",
              "      <td>3.000000</td>\n",
              "      <td>0.000000</td>\n",
              "      <td>126.000000</td>\n",
              "      <td>2018.000000</td>\n",
              "      <td>10.000000</td>\n",
              "      <td>23.000000</td>\n",
              "      <td>0.000000</td>\n",
              "      <td>0.000000</td>\n",
              "      <td>0.000000</td>\n",
              "      <td>120.000000</td>\n",
              "      <td>1.000000</td>\n",
              "    </tr>\n",
              "    <tr>\n",
              "      <th>max</th>\n",
              "      <td>4.000000</td>\n",
              "      <td>10.000000</td>\n",
              "      <td>7.000000</td>\n",
              "      <td>17.000000</td>\n",
              "      <td>1.000000</td>\n",
              "      <td>443.000000</td>\n",
              "      <td>2018.000000</td>\n",
              "      <td>12.000000</td>\n",
              "      <td>31.000000</td>\n",
              "      <td>1.000000</td>\n",
              "      <td>13.000000</td>\n",
              "      <td>58.000000</td>\n",
              "      <td>540.000000</td>\n",
              "      <td>5.000000</td>\n",
              "    </tr>\n",
              "  </tbody>\n",
              "</table>\n",
              "</div>\n",
              "      <button class=\"colab-df-convert\" onclick=\"convertToInteractive('df-7d1b725f-af67-4b32-90c9-4d246383b7a6')\"\n",
              "              title=\"Convert this dataframe to an interactive table.\"\n",
              "              style=\"display:none;\">\n",
              "        \n",
              "  <svg xmlns=\"http://www.w3.org/2000/svg\" height=\"24px\"viewBox=\"0 0 24 24\"\n",
              "       width=\"24px\">\n",
              "    <path d=\"M0 0h24v24H0V0z\" fill=\"none\"/>\n",
              "    <path d=\"M18.56 5.44l.94 2.06.94-2.06 2.06-.94-2.06-.94-.94-2.06-.94 2.06-2.06.94zm-11 1L8.5 8.5l.94-2.06 2.06-.94-2.06-.94L8.5 2.5l-.94 2.06-2.06.94zm10 10l.94 2.06.94-2.06 2.06-.94-2.06-.94-.94-2.06-.94 2.06-2.06.94z\"/><path d=\"M17.41 7.96l-1.37-1.37c-.4-.4-.92-.59-1.43-.59-.52 0-1.04.2-1.43.59L10.3 9.45l-7.72 7.72c-.78.78-.78 2.05 0 2.83L4 21.41c.39.39.9.59 1.41.59.51 0 1.02-.2 1.41-.59l7.78-7.78 2.81-2.81c.8-.78.8-2.07 0-2.86zM5.41 20L4 18.59l7.72-7.72 1.47 1.35L5.41 20z\"/>\n",
              "  </svg>\n",
              "      </button>\n",
              "      \n",
              "  <style>\n",
              "    .colab-df-container {\n",
              "      display:flex;\n",
              "      flex-wrap:wrap;\n",
              "      gap: 12px;\n",
              "    }\n",
              "\n",
              "    .colab-df-convert {\n",
              "      background-color: #E8F0FE;\n",
              "      border: none;\n",
              "      border-radius: 50%;\n",
              "      cursor: pointer;\n",
              "      display: none;\n",
              "      fill: #1967D2;\n",
              "      height: 32px;\n",
              "      padding: 0 0 0 0;\n",
              "      width: 32px;\n",
              "    }\n",
              "\n",
              "    .colab-df-convert:hover {\n",
              "      background-color: #E2EBFA;\n",
              "      box-shadow: 0px 1px 2px rgba(60, 64, 67, 0.3), 0px 1px 3px 1px rgba(60, 64, 67, 0.15);\n",
              "      fill: #174EA6;\n",
              "    }\n",
              "\n",
              "    [theme=dark] .colab-df-convert {\n",
              "      background-color: #3B4455;\n",
              "      fill: #D2E3FC;\n",
              "    }\n",
              "\n",
              "    [theme=dark] .colab-df-convert:hover {\n",
              "      background-color: #434B5C;\n",
              "      box-shadow: 0px 1px 3px 1px rgba(0, 0, 0, 0.15);\n",
              "      filter: drop-shadow(0px 1px 2px rgba(0, 0, 0, 0.3));\n",
              "      fill: #FFFFFF;\n",
              "    }\n",
              "  </style>\n",
              "\n",
              "      <script>\n",
              "        const buttonEl =\n",
              "          document.querySelector('#df-7d1b725f-af67-4b32-90c9-4d246383b7a6 button.colab-df-convert');\n",
              "        buttonEl.style.display =\n",
              "          google.colab.kernel.accessAllowed ? 'block' : 'none';\n",
              "\n",
              "        async function convertToInteractive(key) {\n",
              "          const element = document.querySelector('#df-7d1b725f-af67-4b32-90c9-4d246383b7a6');\n",
              "          const dataTable =\n",
              "            await google.colab.kernel.invokeFunction('convertToInteractive',\n",
              "                                                     [key], {});\n",
              "          if (!dataTable) return;\n",
              "\n",
              "          const docLinkHtml = 'Like what you see? Visit the ' +\n",
              "            '<a target=\"_blank\" href=https://colab.research.google.com/notebooks/data_table.ipynb>data table notebook</a>'\n",
              "            + ' to learn more about interactive tables.';\n",
              "          element.innerHTML = '';\n",
              "          dataTable['output_type'] = 'display_data';\n",
              "          await google.colab.output.renderOutput(dataTable, element);\n",
              "          const docLink = document.createElement('div');\n",
              "          docLink.innerHTML = docLinkHtml;\n",
              "          element.appendChild(docLink);\n",
              "        }\n",
              "      </script>\n",
              "    </div>\n",
              "  </div>\n",
              "  "
            ],
            "text/plain": [
              "       no_of_adults  no_of_children  no_of_weekend_nights  no_of_week_nights  \\\n",
              "count  36275.000000    36275.000000          36275.000000       36275.000000   \n",
              "mean       1.844962        0.105279              0.810724           2.204300   \n",
              "std        0.518715        0.402648              0.870644           1.410905   \n",
              "min        0.000000        0.000000              0.000000           0.000000   \n",
              "25%        2.000000        0.000000              0.000000           1.000000   \n",
              "50%        2.000000        0.000000              1.000000           2.000000   \n",
              "75%        2.000000        0.000000              2.000000           3.000000   \n",
              "max        4.000000       10.000000              7.000000          17.000000   \n",
              "\n",
              "       required_car_parking_space     lead_time  arrival_year  arrival_month  \\\n",
              "count                36275.000000  36275.000000  36275.000000   36275.000000   \n",
              "mean                     0.030986     85.232557   2017.820427       7.423653   \n",
              "std                      0.173281     85.930817      0.383836       3.069894   \n",
              "min                      0.000000      0.000000   2017.000000       1.000000   \n",
              "25%                      0.000000     17.000000   2018.000000       5.000000   \n",
              "50%                      0.000000     57.000000   2018.000000       8.000000   \n",
              "75%                      0.000000    126.000000   2018.000000      10.000000   \n",
              "max                      1.000000    443.000000   2018.000000      12.000000   \n",
              "\n",
              "       arrival_date  repeated_guest  no_of_previous_cancellations  \\\n",
              "count  36275.000000    36275.000000                  36275.000000   \n",
              "mean      15.596995        0.025637                      0.023349   \n",
              "std        8.740447        0.158053                      0.368331   \n",
              "min        1.000000        0.000000                      0.000000   \n",
              "25%        8.000000        0.000000                      0.000000   \n",
              "50%       16.000000        0.000000                      0.000000   \n",
              "75%       23.000000        0.000000                      0.000000   \n",
              "max       31.000000        1.000000                     13.000000   \n",
              "\n",
              "       no_of_previous_bookings_not_canceled  avg_price_per_room  \\\n",
              "count                          36275.000000        36275.000000   \n",
              "mean                               0.153411          103.423539   \n",
              "std                                1.754171           35.089424   \n",
              "min                                0.000000            0.000000   \n",
              "25%                                0.000000           80.300000   \n",
              "50%                                0.000000           99.450000   \n",
              "75%                                0.000000          120.000000   \n",
              "max                               58.000000          540.000000   \n",
              "\n",
              "       no_of_special_requests  \n",
              "count            36275.000000  \n",
              "mean                 0.619655  \n",
              "std                  0.786236  \n",
              "min                  0.000000  \n",
              "25%                  0.000000  \n",
              "50%                  0.000000  \n",
              "75%                  1.000000  \n",
              "max                  5.000000  "
            ]
          },
          "execution_count": 17,
          "metadata": {},
          "output_type": "execute_result"
        }
      ],
      "source": [
        "# Display the descriptive statistics of `df_reservations`\n",
        "df_reservations.describe()"
      ]
    },
    {
      "cell_type": "markdown",
      "metadata": {
        "id": "YwLDb9QE6sEF"
      },
      "source": [
        "### **1.2.2** Visualizations\n",
        "\n",
        "There are 8 manually graded points in this section."
      ]
    },
    {
      "cell_type": "markdown",
      "metadata": {
        "id": "SCE6Y6TF7thU"
      },
      "source": [
        "#### (a) Number of Canceled and Not Canceled Bookings For Each Month [5 pts]"
      ]
    },
    {
      "cell_type": "markdown",
      "metadata": {
        "id": "pCOF-tYX9zVV"
      },
      "source": [
        "**Task:** For each month, we want to find the number of canceled bookings and not-canceled bookings.\n",
        "\n",
        "You should first create a dataframe called `month_status` with the following columns using `df_reservations`:\n",
        "- `'arrival_month'`\n",
        "- `'booking_status'`"
      ]
    },
    {
      "cell_type": "code",
      "execution_count": null,
      "metadata": {
        "id": "hHA523wv-4fq"
      },
      "outputs": [],
      "source": [
        "# TO-DO: create a dataframe month_status\n",
        "month_status = df_reservations[[\"arrival_month\", \"booking_status\"]]"
      ]
    },
    {
      "cell_type": "code",
      "execution_count": null,
      "metadata": {
        "colab": {
          "base_uri": "https://localhost:8080/"
        },
        "id": "L17_HwUS7AQe",
        "outputId": "80bbf738-3579-47cb-96f3-1fe7390e65f1"
      },
      "outputs": [
        {
          "name": "stdout",
          "output_type": "stream",
          "text": [
            "Correct! You earned 1/1 points. You are a star!\n",
            "\n",
            "Your submission has been successfully recorded in the gradebook.\n"
          ]
        }
      ],
      "source": [
        "# Grader Cell (1 point)\n",
        "grader.grade(test_case_id = 'month_status_df', answer = month_status)"
      ]
    },
    {
      "cell_type": "markdown",
      "metadata": {
        "id": "L0chtICRm4F7"
      },
      "source": [
        "**Manually Graded Task:**  We will be using the `seaborn` library for this problem to create a <ins>double histogram</ins> plot using the data in `month_status`. For each month, there will be two bars: one for Canceled bookings and another for Not_Canceled bookings.\n",
        "\n",
        "Your plot must:\n",
        "*   Be of figure size `(8,6)`\n",
        "*   Use `palette = 'husl'` and `shrink = 2`.\n",
        "*   Have three-letter abbreviations for months as x-tick labels (for example: Jan, Feb, Mar)\n",
        "*   Have appropriate titles, axes labels, and a legend\n",
        "*   Be clearly legible and should **not** have overlapping text or bars.\n",
        "*   Make sure all months are visible on the x-axis"
      ]
    },
    {
      "cell_type": "code",
      "execution_count": null,
      "metadata": {
        "colab": {
          "base_uri": "https://localhost:8080/",
          "height": 768
        },
        "id": "UqaanuTOEB6T",
        "outputId": "00526618-8b51-4fb2-e367-98fd8ea136a1"
      },
      "outputs": [
        {
          "data": {
            "text/plain": [
              "[Text(1, 0, 'Jan'),\n",
              " Text(2, 0, 'Feb'),\n",
              " Text(3, 0, 'Mar'),\n",
              " Text(4, 0, 'Apr'),\n",
              " Text(5, 0, 'May'),\n",
              " Text(6, 0, 'Jun'),\n",
              " Text(7, 0, 'Jul'),\n",
              " Text(8, 0, 'Aug'),\n",
              " Text(9, 0, 'Sep'),\n",
              " Text(10, 0, 'Oct'),\n",
              " Text(11, 0, 'Nov'),\n",
              " Text(12, 0, 'Dec')]"
            ]
          },
          "execution_count": 20,
          "metadata": {},
          "output_type": "execute_result"
        },
        {
          "data": {
            "image/png": "[encoded data removed]",
            "text/plain": [
              "<Figure size 800x600 with 1 Axes>"
            ]
          },
          "metadata": {},
          "output_type": "display_data"
        }
      ],
      "source": [
        "# TO-DO: [MANUALLY GRADED: 4 points]\n",
        "#   Create a histogram plot which has bars placed side by side in a single plot\n",
        "#   showing the number of Canceled and Not_Canceled bookings for each month\n",
        "plt.figure(figsize = (8,6))\n",
        "ax = sns.histplot(x=\"arrival_month\", hue = 'booking_status', palette = 'husl', shrink = 2, data=month_status ,multiple=\"dodge\")\n",
        "\n",
        "plt.title('Number of Cancelled and Not Cancelled Bookings By Month')\n",
        "\n",
        "ax.set_xticks(range(1, 13))\n",
        "\n",
        "plt.xlabel('Month of Arrival')\n",
        "plt.ylabel('Number of Bookings')\n",
        "ax.set_xticklabels(['Jan', 'Feb', 'Mar', 'Apr', 'May', 'Jun', 'Jul', 'Aug', 'Sep', 'Oct', 'Nov', 'Dec'])\n"
      ]
    },
    {
      "cell_type": "markdown",
      "metadata": {
        "id": "yS7viOKL8Bap"
      },
      "source": [
        "#### (b) Average Price of a Room for Each Month [5 pts]"
      ]
    },
    {
      "cell_type": "markdown",
      "metadata": {
        "id": "11ks7ny08qOs"
      },
      "source": [
        "**Task:** For each month, we want to find the average cost of rooms.\n",
        "\n",
        "Please note that there exists a column named `'avg_price_per_room'`, which is the *average price per day* of the given reservation.\n",
        "\n",
        "We want to find the average cost of a hotel room for *each month*.\n",
        "\n",
        "You should first create a dataframe called `month_price` with the following columns:\n",
        "- `'arrival_month'`\n",
        "- `'avg_price_per_room'`"
      ]
    },
    {
      "cell_type": "code",
      "execution_count": null,
      "metadata": {
        "id": "-_VrNbmOIMCc"
      },
      "outputs": [],
      "source": [
        "# TO-DO: create a dataframe month_price\n",
        "month_price = df_reservations[[\"arrival_month\", \"avg_price_per_room\"]]"
      ]
    },
    {
      "cell_type": "code",
      "execution_count": null,
      "metadata": {
        "colab": {
          "base_uri": "https://localhost:8080/"
        },
        "id": "srjuu8zM94AG",
        "outputId": "6283a9b2-8ad0-47b3-f1a8-c7fb597c68e3"
      },
      "outputs": [
        {
          "name": "stdout",
          "output_type": "stream",
          "text": [
            "Correct! You earned 1/1 points. You are a star!\n",
            "\n",
            "Your submission has been successfully recorded in the gradebook.\n"
          ]
        }
      ],
      "source": [
        "# Grader Cell (1 points)\n",
        "grader.grade(test_case_id = 'month_price_df', answer = month_price)"
      ]
    },
    {
      "cell_type": "markdown",
      "metadata": {
        "id": "3zv3ETHZnSwp"
      },
      "source": [
        "**Manually Graded Task:** We will be using the `seaborn` library for this problem to create a <ins>barplot</ins> visualizing the data in `month_price`\n",
        "\n",
        "Your plot must:\n",
        "*   Be of figure size (8,6)\n",
        "*   Use `palette = 'husl'` and `errorbar=None`.\n",
        "*   Have three-letter abbreviations for months as x-tick labels (for example: Jan, Feb, Mar)\n",
        "*   Have appropriate titles and axes labels\n",
        "*   Be clearly legible and should **not** have overlapping text or bars."
      ]
    },
    {
      "cell_type": "code",
      "execution_count": null,
      "metadata": {
        "colab": {
          "base_uri": "https://localhost:8080/",
          "height": 421
        },
        "id": "Y5cR63TDcfq_",
        "outputId": "8322da99-761a-4d44-9c22-0f71cb7c7041"
      },
      "outputs": [
        {
          "data": {
            "text/html": [
              "\n",
              "  <div id=\"df-68d9669f-f9af-4c05-9928-33aa417d567f\">\n",
              "    <div class=\"colab-df-container\">\n",
              "      <div>\n",
              "<style scoped>\n",
              "    .dataframe tbody tr th:only-of-type {\n",
              "        vertical-align: middle;\n",
              "    }\n",
              "\n",
              "    .dataframe tbody tr th {\n",
              "        vertical-align: top;\n",
              "    }\n",
              "\n",
              "    .dataframe thead th {\n",
              "        text-align: right;\n",
              "    }\n",
              "</style>\n",
              "<table border=\"1\" class=\"dataframe\">\n",
              "  <thead>\n",
              "    <tr style=\"text-align: right;\">\n",
              "      <th></th>\n",
              "      <th>arrival_month</th>\n",
              "      <th>avg_price_per_room</th>\n",
              "    </tr>\n",
              "  </thead>\n",
              "  <tbody>\n",
              "    <tr>\n",
              "      <th>0</th>\n",
              "      <td>1</td>\n",
              "      <td>74.749763</td>\n",
              "    </tr>\n",
              "    <tr>\n",
              "      <th>1</th>\n",
              "      <td>2</td>\n",
              "      <td>80.733644</td>\n",
              "    </tr>\n",
              "    <tr>\n",
              "      <th>2</th>\n",
              "      <td>3</td>\n",
              "      <td>91.883698</td>\n",
              "    </tr>\n",
              "    <tr>\n",
              "      <th>3</th>\n",
              "      <td>4</td>\n",
              "      <td>101.998801</td>\n",
              "    </tr>\n",
              "    <tr>\n",
              "      <th>4</th>\n",
              "      <td>5</td>\n",
              "      <td>113.810677</td>\n",
              "    </tr>\n",
              "    <tr>\n",
              "      <th>5</th>\n",
              "      <td>6</td>\n",
              "      <td>111.966500</td>\n",
              "    </tr>\n",
              "    <tr>\n",
              "      <th>6</th>\n",
              "      <td>7</td>\n",
              "      <td>111.649318</td>\n",
              "    </tr>\n",
              "    <tr>\n",
              "      <th>7</th>\n",
              "      <td>8</td>\n",
              "      <td>113.203984</td>\n",
              "    </tr>\n",
              "    <tr>\n",
              "      <th>8</th>\n",
              "      <td>9</td>\n",
              "      <td>115.906916</td>\n",
              "    </tr>\n",
              "    <tr>\n",
              "      <th>9</th>\n",
              "      <td>10</td>\n",
              "      <td>104.460873</td>\n",
              "    </tr>\n",
              "    <tr>\n",
              "      <th>10</th>\n",
              "      <td>11</td>\n",
              "      <td>91.285426</td>\n",
              "    </tr>\n",
              "    <tr>\n",
              "      <th>11</th>\n",
              "      <td>12</td>\n",
              "      <td>88.952185</td>\n",
              "    </tr>\n",
              "  </tbody>\n",
              "</table>\n",
              "</div>\n",
              "      <button class=\"colab-df-convert\" onclick=\"convertToInteractive('df-68d9669f-f9af-4c05-9928-33aa417d567f')\"\n",
              "              title=\"Convert this dataframe to an interactive table.\"\n",
              "              style=\"display:none;\">\n",
              "        \n",
              "  <svg xmlns=\"http://www.w3.org/2000/svg\" height=\"24px\"viewBox=\"0 0 24 24\"\n",
              "       width=\"24px\">\n",
              "    <path d=\"M0 0h24v24H0V0z\" fill=\"none\"/>\n",
              "    <path d=\"M18.56 5.44l.94 2.06.94-2.06 2.06-.94-2.06-.94-.94-2.06-.94 2.06-2.06.94zm-11 1L8.5 8.5l.94-2.06 2.06-.94-2.06-.94L8.5 2.5l-.94 2.06-2.06.94zm10 10l.94 2.06.94-2.06 2.06-.94-2.06-.94-.94-2.06-.94 2.06-2.06.94z\"/><path d=\"M17.41 7.96l-1.37-1.37c-.4-.4-.92-.59-1.43-.59-.52 0-1.04.2-1.43.59L10.3 9.45l-7.72 7.72c-.78.78-.78 2.05 0 2.83L4 21.41c.39.39.9.59 1.41.59.51 0 1.02-.2 1.41-.59l7.78-7.78 2.81-2.81c.8-.78.8-2.07 0-2.86zM5.41 20L4 18.59l7.72-7.72 1.47 1.35L5.41 20z\"/>\n",
              "  </svg>\n",
              "      </button>\n",
              "      \n",
              "  <style>\n",
              "    .colab-df-container {\n",
              "      display:flex;\n",
              "      flex-wrap:wrap;\n",
              "      gap: 12px;\n",
              "    }\n",
              "\n",
              "    .colab-df-convert {\n",
              "      background-color: #E8F0FE;\n",
              "      border: none;\n",
              "      border-radius: 50%;\n",
              "      cursor: pointer;\n",
              "      display: none;\n",
              "      fill: #1967D2;\n",
              "      height: 32px;\n",
              "      padding: 0 0 0 0;\n",
              "      width: 32px;\n",
              "    }\n",
              "\n",
              "    .colab-df-convert:hover {\n",
              "      background-color: #E2EBFA;\n",
              "      box-shadow: 0px 1px 2px rgba(60, 64, 67, 0.3), 0px 1px 3px 1px rgba(60, 64, 67, 0.15);\n",
              "      fill: #174EA6;\n",
              "    }\n",
              "\n",
              "    [theme=dark] .colab-df-convert {\n",
              "      background-color: #3B4455;\n",
              "      fill: #D2E3FC;\n",
              "    }\n",
              "\n",
              "    [theme=dark] .colab-df-convert:hover {\n",
              "      background-color: #434B5C;\n",
              "      box-shadow: 0px 1px 3px 1px rgba(0, 0, 0, 0.15);\n",
              "      filter: drop-shadow(0px 1px 2px rgba(0, 0, 0, 0.3));\n",
              "      fill: #FFFFFF;\n",
              "    }\n",
              "  </style>\n",
              "\n",
              "      <script>\n",
              "        const buttonEl =\n",
              "          document.querySelector('#df-68d9669f-f9af-4c05-9928-33aa417d567f button.colab-df-convert');\n",
              "        buttonEl.style.display =\n",
              "          google.colab.kernel.accessAllowed ? 'block' : 'none';\n",
              "\n",
              "        async function convertToInteractive(key) {\n",
              "          const element = document.querySelector('#df-68d9669f-f9af-4c05-9928-33aa417d567f');\n",
              "          const dataTable =\n",
              "            await google.colab.kernel.invokeFunction('convertToInteractive',\n",
              "                                                     [key], {});\n",
              "          if (!dataTable) return;\n",
              "\n",
              "          const docLinkHtml = 'Like what you see? Visit the ' +\n",
              "            '<a target=\"_blank\" href=https://colab.research.google.com/notebooks/data_table.ipynb>data table notebook</a>'\n",
              "            + ' to learn more about interactive tables.';\n",
              "          element.innerHTML = '';\n",
              "          dataTable['output_type'] = 'display_data';\n",
              "          await google.colab.output.renderOutput(dataTable, element);\n",
              "          const docLink = document.createElement('div');\n",
              "          docLink.innerHTML = docLinkHtml;\n",
              "          element.appendChild(docLink);\n",
              "        }\n",
              "      </script>\n",
              "    </div>\n",
              "  </div>\n",
              "  "
            ],
            "text/plain": [
              "    arrival_month  avg_price_per_room\n",
              "0               1           74.749763\n",
              "1               2           80.733644\n",
              "2               3           91.883698\n",
              "3               4          101.998801\n",
              "4               5          113.810677\n",
              "5               6          111.966500\n",
              "6               7          111.649318\n",
              "7               8          113.203984\n",
              "8               9          115.906916\n",
              "9              10          104.460873\n",
              "10             11           91.285426\n",
              "11             12           88.952185"
            ]
          },
          "execution_count": 23,
          "metadata": {},
          "output_type": "execute_result"
        }
      ],
      "source": [
        "avg_df = month_price.groupby(by = \"arrival_month\", as_index = False).mean()\n",
        "avg_df"
      ]
    },
    {
      "cell_type": "code",
      "execution_count": null,
      "metadata": {
        "colab": {
          "base_uri": "https://localhost:8080/",
          "height": 768
        },
        "id": "Ldul5GNGGshh",
        "outputId": "64340a74-0250-4879-a969-60d2b4d59f25"
      },
      "outputs": [
        {
          "data": {
            "text/plain": [
              "[Text(0, 0, 'Jan'),\n",
              " Text(1, 0, 'Feb'),\n",
              " Text(2, 0, 'Mar'),\n",
              " Text(3, 0, 'Apr'),\n",
              " Text(4, 0, 'May'),\n",
              " Text(5, 0, 'Jun'),\n",
              " Text(6, 0, 'Jul'),\n",
              " Text(7, 0, 'Aug'),\n",
              " Text(8, 0, 'Sep'),\n",
              " Text(9, 0, 'Oct'),\n",
              " Text(10, 0, 'Nov'),\n",
              " Text(11, 0, 'Dec')]"
            ]
          },
          "execution_count": 24,
          "metadata": {},
          "output_type": "execute_result"
        },
        {
          "data": {
            "image/png": "[encoded data removed]",
            "text/plain": [
              "<Figure size 800x600 with 1 Axes>"
            ]
          },
          "metadata": {},
          "output_type": "display_data"
        }
      ],
      "source": [
        "# TO-DO: [MANUALLY GRADED: 4 points]\n",
        "#   Create a bar plot showing the average price per room for each month\n",
        "\n",
        "plt.figure(figsize = (8,6))\n",
        "ax = sns.barplot(x=\"arrival_month\",  y=\"avg_price_per_room\",palette = 'husl', errorbar = None, dodge = False, data=month_price)\n",
        "\n",
        "plt.title('Average Room Price By Month')\n",
        "\n",
        "ax.set_xticks(range(0, 12))\n",
        "\n",
        "plt.xlabel('Month of Arrival')\n",
        "plt.ylabel('Average Price')\n",
        "ax.set_xticklabels(['Jan', 'Feb', 'Mar', 'Apr', 'May', 'Jun', 'Jul', 'Aug', 'Sep', 'Oct', 'Nov', 'Dec'])\n"
      ]
    },
    {
      "cell_type": "markdown",
      "metadata": {
        "id": "D_uvTv_VKYfY"
      },
      "source": [
        "### **1.2.3** Correlation of Feature Variables\n",
        "\n",
        "With multiple features, it can be somewhat exhausting to do bivariate analysis on every possible pair of features. While you certainly should, your first instinct should be to check for the correlation between features since certain models (e.g. Linear Regression) won't work well if we have strong multicollinearity."
      ]
    },
    {
      "cell_type": "markdown",
      "metadata": {
        "id": "YacG1jN-_WI6"
      },
      "source": [
        "#### (a) Isolating Numerics from Categorical Features [3 pts]\n",
        "\n",
        "Before anything else, it may help to create groups of the numeric and categorical variables.\n",
        "\n",
        "**Task:** is to split the `df_reservations` dataframe into 2 dataframes:\n",
        "\n",
        "1. `numerics_df`: This dataframe contains all numerical columns from `df_reservations`\n",
        "\n",
        "2. `categorical_df`: This dataframe contains all categorical columns from `df_reservations`\n",
        "  - i.e. the columns of non-numeric type or contain boolean values\n",
        "\n",
        "In the above dataframes, **please do not include `arrival_year`, `arrival_month`, `arrival_date`, `Booking_ID`, `booking_status`**,\n",
        "because we do not consider time series here and will be predicting `booking_status` in the immidiate classification problem.\n",
        "\n",
        "Also, **sort the columns of `numerics_df` and `categorical_df` in alphabetic order**"
      ]
    },
    {
      "cell_type": "code",
      "execution_count": null,
      "metadata": {
        "colab": {
          "base_uri": "https://localhost:8080/"
        },
        "id": "zBxOkIQp_B_w",
        "outputId": "36261dfb-4d9e-4064-f248-068f0a84a3a6"
      },
      "outputs": [
        {
          "data": {
            "text/plain": [
              "Booking_ID                               object\n",
              "no_of_adults                              int64\n",
              "no_of_children                            int64\n",
              "no_of_weekend_nights                      int64\n",
              "no_of_week_nights                         int64\n",
              "type_of_meal_plan                        object\n",
              "required_car_parking_space                int64\n",
              "room_type_reserved                       object\n",
              "lead_time                                 int64\n",
              "arrival_year                              int64\n",
              "arrival_month                             int64\n",
              "arrival_date                              int64\n",
              "market_segment_type                      object\n",
              "repeated_guest                            int64\n",
              "no_of_previous_cancellations              int64\n",
              "no_of_previous_bookings_not_canceled      int64\n",
              "avg_price_per_room                      float64\n",
              "no_of_special_requests                    int64\n",
              "booking_status                           object\n",
              "dtype: object"
            ]
          },
          "execution_count": 25,
          "metadata": {},
          "output_type": "execute_result"
        }
      ],
      "source": [
        "# TO-DO: Visualize number of unique values and datatype in each column (call .nunique())\n",
        "df_reservations.nunique()\n",
        "df_reservations.dtypes"
      ]
    },
    {
      "cell_type": "code",
      "execution_count": null,
      "metadata": {
        "colab": {
          "base_uri": "https://localhost:8080/",
          "height": 204
        },
        "id": "PZIPC3qoLgag",
        "outputId": "196fc567-6e31-42b9-850c-7d42bbc92db4"
      },
      "outputs": [
        {
          "data": {
            "text/html": [
              "\n",
              "  <div id=\"df-2c24fa30-3b44-4367-b419-7e0c6b71c9ee\">\n",
              "    <div class=\"colab-df-container\">\n",
              "      <div>\n",
              "<style scoped>\n",
              "    .dataframe tbody tr th:only-of-type {\n",
              "        vertical-align: middle;\n",
              "    }\n",
              "\n",
              "    .dataframe tbody tr th {\n",
              "        vertical-align: top;\n",
              "    }\n",
              "\n",
              "    .dataframe thead th {\n",
              "        text-align: right;\n",
              "    }\n",
              "</style>\n",
              "<table border=\"1\" class=\"dataframe\">\n",
              "  <thead>\n",
              "    <tr style=\"text-align: right;\">\n",
              "      <th></th>\n",
              "      <th>type_of_meal_plan</th>\n",
              "      <th>room_type_reserved</th>\n",
              "      <th>market_segment_type</th>\n",
              "      <th>required_car_parking_space</th>\n",
              "      <th>repeated_guest</th>\n",
              "    </tr>\n",
              "  </thead>\n",
              "  <tbody>\n",
              "    <tr>\n",
              "      <th>0</th>\n",
              "      <td>Meal Plan 1</td>\n",
              "      <td>Room_Type 1</td>\n",
              "      <td>Offline</td>\n",
              "      <td>0</td>\n",
              "      <td>0</td>\n",
              "    </tr>\n",
              "    <tr>\n",
              "      <th>1</th>\n",
              "      <td>Not Selected</td>\n",
              "      <td>Room_Type 1</td>\n",
              "      <td>Online</td>\n",
              "      <td>0</td>\n",
              "      <td>0</td>\n",
              "    </tr>\n",
              "    <tr>\n",
              "      <th>2</th>\n",
              "      <td>Meal Plan 1</td>\n",
              "      <td>Room_Type 1</td>\n",
              "      <td>Online</td>\n",
              "      <td>0</td>\n",
              "      <td>0</td>\n",
              "    </tr>\n",
              "    <tr>\n",
              "      <th>3</th>\n",
              "      <td>Meal Plan 1</td>\n",
              "      <td>Room_Type 1</td>\n",
              "      <td>Online</td>\n",
              "      <td>0</td>\n",
              "      <td>0</td>\n",
              "    </tr>\n",
              "    <tr>\n",
              "      <th>4</th>\n",
              "      <td>Not Selected</td>\n",
              "      <td>Room_Type 1</td>\n",
              "      <td>Online</td>\n",
              "      <td>0</td>\n",
              "      <td>0</td>\n",
              "    </tr>\n",
              "  </tbody>\n",
              "</table>\n",
              "</div>\n",
              "      <button class=\"colab-df-convert\" onclick=\"convertToInteractive('df-2c24fa30-3b44-4367-b419-7e0c6b71c9ee')\"\n",
              "              title=\"Convert this dataframe to an interactive table.\"\n",
              "              style=\"display:none;\">\n",
              "        \n",
              "  <svg xmlns=\"http://www.w3.org/2000/svg\" height=\"24px\"viewBox=\"0 0 24 24\"\n",
              "       width=\"24px\">\n",
              "    <path d=\"M0 0h24v24H0V0z\" fill=\"none\"/>\n",
              "    <path d=\"M18.56 5.44l.94 2.06.94-2.06 2.06-.94-2.06-.94-.94-2.06-.94 2.06-2.06.94zm-11 1L8.5 8.5l.94-2.06 2.06-.94-2.06-.94L8.5 2.5l-.94 2.06-2.06.94zm10 10l.94 2.06.94-2.06 2.06-.94-2.06-.94-.94-2.06-.94 2.06-2.06.94z\"/><path d=\"M17.41 7.96l-1.37-1.37c-.4-.4-.92-.59-1.43-.59-.52 0-1.04.2-1.43.59L10.3 9.45l-7.72 7.72c-.78.78-.78 2.05 0 2.83L4 21.41c.39.39.9.59 1.41.59.51 0 1.02-.2 1.41-.59l7.78-7.78 2.81-2.81c.8-.78.8-2.07 0-2.86zM5.41 20L4 18.59l7.72-7.72 1.47 1.35L5.41 20z\"/>\n",
              "  </svg>\n",
              "      </button>\n",
              "      \n",
              "  <style>\n",
              "    .colab-df-container {\n",
              "      display:flex;\n",
              "      flex-wrap:wrap;\n",
              "      gap: 12px;\n",
              "    }\n",
              "\n",
              "    .colab-df-convert {\n",
              "      background-color: #E8F0FE;\n",
              "      border: none;\n",
              "      border-radius: 50%;\n",
              "      cursor: pointer;\n",
              "      display: none;\n",
              "      fill: #1967D2;\n",
              "      height: 32px;\n",
              "      padding: 0 0 0 0;\n",
              "      width: 32px;\n",
              "    }\n",
              "\n",
              "    .colab-df-convert:hover {\n",
              "      background-color: #E2EBFA;\n",
              "      box-shadow: 0px 1px 2px rgba(60, 64, 67, 0.3), 0px 1px 3px 1px rgba(60, 64, 67, 0.15);\n",
              "      fill: #174EA6;\n",
              "    }\n",
              "\n",
              "    [theme=dark] .colab-df-convert {\n",
              "      background-color: #3B4455;\n",
              "      fill: #D2E3FC;\n",
              "    }\n",
              "\n",
              "    [theme=dark] .colab-df-convert:hover {\n",
              "      background-color: #434B5C;\n",
              "      box-shadow: 0px 1px 3px 1px rgba(0, 0, 0, 0.15);\n",
              "      filter: drop-shadow(0px 1px 2px rgba(0, 0, 0, 0.3));\n",
              "      fill: #FFFFFF;\n",
              "    }\n",
              "  </style>\n",
              "\n",
              "      <script>\n",
              "        const buttonEl =\n",
              "          document.querySelector('#df-2c24fa30-3b44-4367-b419-7e0c6b71c9ee button.colab-df-convert');\n",
              "        buttonEl.style.display =\n",
              "          google.colab.kernel.accessAllowed ? 'block' : 'none';\n",
              "\n",
              "        async function convertToInteractive(key) {\n",
              "          const element = document.querySelector('#df-2c24fa30-3b44-4367-b419-7e0c6b71c9ee');\n",
              "          const dataTable =\n",
              "            await google.colab.kernel.invokeFunction('convertToInteractive',\n",
              "                                                     [key], {});\n",
              "          if (!dataTable) return;\n",
              "\n",
              "          const docLinkHtml = 'Like what you see? Visit the ' +\n",
              "            '<a target=\"_blank\" href=https://colab.research.google.com/notebooks/data_table.ipynb>data table notebook</a>'\n",
              "            + ' to learn more about interactive tables.';\n",
              "          element.innerHTML = '';\n",
              "          dataTable['output_type'] = 'display_data';\n",
              "          await google.colab.output.renderOutput(dataTable, element);\n",
              "          const docLink = document.createElement('div');\n",
              "          docLink.innerHTML = docLinkHtml;\n",
              "          element.appendChild(docLink);\n",
              "        }\n",
              "      </script>\n",
              "    </div>\n",
              "  </div>\n",
              "  "
            ],
            "text/plain": [
              "  type_of_meal_plan room_type_reserved market_segment_type  \\\n",
              "0       Meal Plan 1        Room_Type 1             Offline   \n",
              "1      Not Selected        Room_Type 1              Online   \n",
              "2       Meal Plan 1        Room_Type 1              Online   \n",
              "3       Meal Plan 1        Room_Type 1              Online   \n",
              "4      Not Selected        Room_Type 1              Online   \n",
              "\n",
              "   required_car_parking_space  repeated_guest  \n",
              "0                           0               0  \n",
              "1                           0               0  \n",
              "2                           0               0  \n",
              "3                           0               0  \n",
              "4                           0               0  "
            ]
          },
          "execution_count": 26,
          "metadata": {},
          "output_type": "execute_result"
        }
      ],
      "source": [
        "# TO-DO: Form 'numerics_df' and 'categorical_df'\n",
        "numerics_df = df_reservations.select_dtypes(include='number').drop(axis = 1, columns = ['arrival_year', 'arrival_month', 'arrival_date', 'repeated_guest', 'required_car_parking_space'])\n",
        "\n",
        "categorical_df = df_reservations[['type_of_meal_plan', 'room_type_reserved', 'market_segment_type', 'required_car_parking_space','repeated_guest']]\n",
        "categorical_df.head()\n"
      ]
    },
    {
      "cell_type": "code",
      "execution_count": null,
      "metadata": {
        "colab": {
          "base_uri": "https://localhost:8080/",
          "height": 256
        },
        "id": "kl0qUiGjOYnZ",
        "outputId": "fb4123f9-675c-4e7b-9926-db2554c99c65"
      },
      "outputs": [
        {
          "data": {
            "text/html": [
              "\n",
              "  <div id=\"df-8031a679-455f-414c-886f-6454c147aeef\">\n",
              "    <div class=\"colab-df-container\">\n",
              "      <div>\n",
              "<style scoped>\n",
              "    .dataframe tbody tr th:only-of-type {\n",
              "        vertical-align: middle;\n",
              "    }\n",
              "\n",
              "    .dataframe tbody tr th {\n",
              "        vertical-align: top;\n",
              "    }\n",
              "\n",
              "    .dataframe thead th {\n",
              "        text-align: right;\n",
              "    }\n",
              "</style>\n",
              "<table border=\"1\" class=\"dataframe\">\n",
              "  <thead>\n",
              "    <tr style=\"text-align: right;\">\n",
              "      <th></th>\n",
              "      <th>avg_price_per_room</th>\n",
              "      <th>lead_time</th>\n",
              "      <th>no_of_adults</th>\n",
              "      <th>no_of_children</th>\n",
              "      <th>no_of_previous_bookings_not_canceled</th>\n",
              "      <th>no_of_previous_cancellations</th>\n",
              "      <th>no_of_special_requests</th>\n",
              "      <th>no_of_week_nights</th>\n",
              "      <th>no_of_weekend_nights</th>\n",
              "    </tr>\n",
              "  </thead>\n",
              "  <tbody>\n",
              "    <tr>\n",
              "      <th>0</th>\n",
              "      <td>65.00</td>\n",
              "      <td>224</td>\n",
              "      <td>2</td>\n",
              "      <td>0</td>\n",
              "      <td>0</td>\n",
              "      <td>0</td>\n",
              "      <td>0</td>\n",
              "      <td>2</td>\n",
              "      <td>1</td>\n",
              "    </tr>\n",
              "    <tr>\n",
              "      <th>1</th>\n",
              "      <td>106.68</td>\n",
              "      <td>5</td>\n",
              "      <td>2</td>\n",
              "      <td>0</td>\n",
              "      <td>0</td>\n",
              "      <td>0</td>\n",
              "      <td>1</td>\n",
              "      <td>3</td>\n",
              "      <td>2</td>\n",
              "    </tr>\n",
              "    <tr>\n",
              "      <th>2</th>\n",
              "      <td>60.00</td>\n",
              "      <td>1</td>\n",
              "      <td>1</td>\n",
              "      <td>0</td>\n",
              "      <td>0</td>\n",
              "      <td>0</td>\n",
              "      <td>0</td>\n",
              "      <td>1</td>\n",
              "      <td>2</td>\n",
              "    </tr>\n",
              "    <tr>\n",
              "      <th>3</th>\n",
              "      <td>100.00</td>\n",
              "      <td>211</td>\n",
              "      <td>2</td>\n",
              "      <td>0</td>\n",
              "      <td>0</td>\n",
              "      <td>0</td>\n",
              "      <td>0</td>\n",
              "      <td>2</td>\n",
              "      <td>0</td>\n",
              "    </tr>\n",
              "    <tr>\n",
              "      <th>4</th>\n",
              "      <td>94.50</td>\n",
              "      <td>48</td>\n",
              "      <td>2</td>\n",
              "      <td>0</td>\n",
              "      <td>0</td>\n",
              "      <td>0</td>\n",
              "      <td>0</td>\n",
              "      <td>1</td>\n",
              "      <td>1</td>\n",
              "    </tr>\n",
              "  </tbody>\n",
              "</table>\n",
              "</div>\n",
              "      <button class=\"colab-df-convert\" onclick=\"convertToInteractive('df-8031a679-455f-414c-886f-6454c147aeef')\"\n",
              "              title=\"Convert this dataframe to an interactive table.\"\n",
              "              style=\"display:none;\">\n",
              "        \n",
              "  <svg xmlns=\"http://www.w3.org/2000/svg\" height=\"24px\"viewBox=\"0 0 24 24\"\n",
              "       width=\"24px\">\n",
              "    <path d=\"M0 0h24v24H0V0z\" fill=\"none\"/>\n",
              "    <path d=\"M18.56 5.44l.94 2.06.94-2.06 2.06-.94-2.06-.94-.94-2.06-.94 2.06-2.06.94zm-11 1L8.5 8.5l.94-2.06 2.06-.94-2.06-.94L8.5 2.5l-.94 2.06-2.06.94zm10 10l.94 2.06.94-2.06 2.06-.94-2.06-.94-.94-2.06-.94 2.06-2.06.94z\"/><path d=\"M17.41 7.96l-1.37-1.37c-.4-.4-.92-.59-1.43-.59-.52 0-1.04.2-1.43.59L10.3 9.45l-7.72 7.72c-.78.78-.78 2.05 0 2.83L4 21.41c.39.39.9.59 1.41.59.51 0 1.02-.2 1.41-.59l7.78-7.78 2.81-2.81c.8-.78.8-2.07 0-2.86zM5.41 20L4 18.59l7.72-7.72 1.47 1.35L5.41 20z\"/>\n",
              "  </svg>\n",
              "      </button>\n",
              "      \n",
              "  <style>\n",
              "    .colab-df-container {\n",
              "      display:flex;\n",
              "      flex-wrap:wrap;\n",
              "      gap: 12px;\n",
              "    }\n",
              "\n",
              "    .colab-df-convert {\n",
              "      background-color: #E8F0FE;\n",
              "      border: none;\n",
              "      border-radius: 50%;\n",
              "      cursor: pointer;\n",
              "      display: none;\n",
              "      fill: #1967D2;\n",
              "      height: 32px;\n",
              "      padding: 0 0 0 0;\n",
              "      width: 32px;\n",
              "    }\n",
              "\n",
              "    .colab-df-convert:hover {\n",
              "      background-color: #E2EBFA;\n",
              "      box-shadow: 0px 1px 2px rgba(60, 64, 67, 0.3), 0px 1px 3px 1px rgba(60, 64, 67, 0.15);\n",
              "      fill: #174EA6;\n",
              "    }\n",
              "\n",
              "    [theme=dark] .colab-df-convert {\n",
              "      background-color: #3B4455;\n",
              "      fill: #D2E3FC;\n",
              "    }\n",
              "\n",
              "    [theme=dark] .colab-df-convert:hover {\n",
              "      background-color: #434B5C;\n",
              "      box-shadow: 0px 1px 3px 1px rgba(0, 0, 0, 0.15);\n",
              "      filter: drop-shadow(0px 1px 2px rgba(0, 0, 0, 0.3));\n",
              "      fill: #FFFFFF;\n",
              "    }\n",
              "  </style>\n",
              "\n",
              "      <script>\n",
              "        const buttonEl =\n",
              "          document.querySelector('#df-8031a679-455f-414c-886f-6454c147aeef button.colab-df-convert');\n",
              "        buttonEl.style.display =\n",
              "          google.colab.kernel.accessAllowed ? 'block' : 'none';\n",
              "\n",
              "        async function convertToInteractive(key) {\n",
              "          const element = document.querySelector('#df-8031a679-455f-414c-886f-6454c147aeef');\n",
              "          const dataTable =\n",
              "            await google.colab.kernel.invokeFunction('convertToInteractive',\n",
              "                                                     [key], {});\n",
              "          if (!dataTable) return;\n",
              "\n",
              "          const docLinkHtml = 'Like what you see? Visit the ' +\n",
              "            '<a target=\"_blank\" href=https://colab.research.google.com/notebooks/data_table.ipynb>data table notebook</a>'\n",
              "            + ' to learn more about interactive tables.';\n",
              "          element.innerHTML = '';\n",
              "          dataTable['output_type'] = 'display_data';\n",
              "          await google.colab.output.renderOutput(dataTable, element);\n",
              "          const docLink = document.createElement('div');\n",
              "          docLink.innerHTML = docLinkHtml;\n",
              "          element.appendChild(docLink);\n",
              "        }\n",
              "      </script>\n",
              "    </div>\n",
              "  </div>\n",
              "  "
            ],
            "text/plain": [
              "   avg_price_per_room  lead_time  no_of_adults  no_of_children  \\\n",
              "0               65.00        224             2               0   \n",
              "1              106.68          5             2               0   \n",
              "2               60.00          1             1               0   \n",
              "3              100.00        211             2               0   \n",
              "4               94.50         48             2               0   \n",
              "\n",
              "   no_of_previous_bookings_not_canceled  no_of_previous_cancellations  \\\n",
              "0                                     0                             0   \n",
              "1                                     0                             0   \n",
              "2                                     0                             0   \n",
              "3                                     0                             0   \n",
              "4                                     0                             0   \n",
              "\n",
              "   no_of_special_requests  no_of_week_nights  no_of_weekend_nights  \n",
              "0                       0                  2                     1  \n",
              "1                       1                  3                     2  \n",
              "2                       0                  1                     2  \n",
              "3                       0                  2                     0  \n",
              "4                       0                  1                     1  "
            ]
          },
          "execution_count": 27,
          "metadata": {},
          "output_type": "execute_result"
        }
      ],
      "source": [
        "# TO-DO: sort the columns of `numerics_df` and `categorical_df` in alphabetic order\n",
        "numerics_df = numerics_df.sort_index(axis=1)\n",
        "categorical_df = categorical_df.sort_index(axis=1)\n",
        "numerics_df.head()"
      ]
    },
    {
      "cell_type": "code",
      "execution_count": null,
      "metadata": {
        "colab": {
          "base_uri": "https://localhost:8080/"
        },
        "id": "eGWnwyl4Bkjt",
        "outputId": "aa833ea7-cc3a-4948-d62d-41ddab29afa5"
      },
      "outputs": [
        {
          "name": "stdout",
          "output_type": "stream",
          "text": [
            "Correct! You earned 3/3 points. You are a star!\n",
            "\n",
            "Your submission has been successfully recorded in the gradebook.\n"
          ]
        }
      ],
      "source": [
        "#Grader Cell (3 points)\n",
        "grader.grade(test_case_id = 'cat_num_df', answer = (numerics_df, categorical_df))"
      ]
    },
    {
      "cell_type": "markdown",
      "metadata": {
        "id": "QRaftmxV-FEV"
      },
      "source": [
        "#### (b) **Correlation Heatmap** [3 pts]\n",
        "\n",
        "**Manually Graded Task:** Create a correlation matrix using `numerics_df` and call it `corr_mat`. Using the correlation matrix, generate a correlation heatmap for these numeric features. We will be using Seaborn library to create this heatmap.\n",
        "\n",
        "Make sure your correlation heatmap meets the following criteria:\n",
        "*   Ensure that your heatmap is of figure size `(8,8)`: all feature labels should be visible on both the $x$-axis and $y$-axis\n",
        "*   Use the `RdBu` color map to ensure that negative correlations are red and positive correlations are blue. This is far more intuitive than other ones.\n",
        "*   Standardize the color scale so that -1 takes the darkest red color, 0 is totally white, and +1 takes the darkest blue color. Remember, the Official Documentation should always be your first point of reference."
      ]
    },
    {
      "cell_type": "code",
      "execution_count": null,
      "metadata": {
        "colab": {
          "base_uri": "https://localhost:8080/",
          "height": 941
        },
        "id": "3IjmGO3eLcjz",
        "outputId": "ad9c38fb-7a8b-44c9-e355-618fd7358ab7"
      },
      "outputs": [
        {
          "data": {
            "image/png": "[encoded data removed]",
            "text/plain": [
              "<Figure size 800x800 with 2 Axes>"
            ]
          },
          "metadata": {},
          "output_type": "display_data"
        }
      ],
      "source": [
        "# TO-DO: Plot correlation heatmap (3 points)\n",
        "plt.figure(figsize = (8,8))\n",
        "norm = plt.Normalize(-1,1)\n",
        "ax = sns.heatmap(data = numerics_df.corr(), cmap = 'RdBu', vmin = -1, vmax = 1, norm = norm)"
      ]
    },
    {
      "cell_type": "markdown",
      "metadata": {
        "id": "06OFh_eTNIPI"
      },
      "source": [
        "## **1.3** Feature Engineering [Total: 4 points]\n",
        "\n",
        "Feature engineering is the process of applying domain knowledge to extract features from raw data via data mining techniques. These features can be used to improve the performance of machine learning algorithms."
      ]
    },
    {
      "cell_type": "markdown",
      "metadata": {
        "id": "gJ2ptxmkNyG6"
      },
      "source": [
        "### **1.3.1** One Hot Encoding [2 pts]"
      ]
    },
    {
      "cell_type": "markdown",
      "metadata": {
        "id": "AIaH3ZHsNvei"
      },
      "source": [
        "One hot encoding is a process by which categorical variables are converted into a form that could be provided to ML algorithms to do a better job in prediction. With one-hot encoding, we convert each categorical value into a new categorical column and assign a binary value of 1 or 0 to those columns.\n",
        "\n",
        "One way to one-hot encode in Pandas is by using `pd.get_dummies()` . The documentation can be found [here](https://pandas.pydata.org/docs/reference/api/pandas.get_dummies.html).\n",
        "\n",
        "**Input:** Perform operations on `df_reservations`\n",
        "\n",
        "**Task:**\n",
        "- Use `pd.get_dummies()` to one hot encode the following columns:\n",
        "  - `\"type_of_meal_plan\"`\n",
        "  - `\"room_type_reserved\"`\n",
        "  - `\"market_segment_type\"`\n",
        "- Save your result in the dataframe `encoded_df_reservations`.\n",
        "\n",
        "**Note:** Do <ins>NOT</ins> modify the column names. Use the default names `pd.get_dummies()` generates."
      ]
    },
    {
      "cell_type": "code",
      "execution_count": null,
      "metadata": {
        "id": "ttMWoxUPOhqF"
      },
      "outputs": [],
      "source": [
        "# TO-DO: drop \"Booking_ID\" column from `df_reservations`\n",
        "df_reservations = df_reservations.drop(axis = 1, columns = ['Booking_ID'])"
      ]
    },
    {
      "cell_type": "code",
      "execution_count": null,
      "metadata": {
        "id": "DCwdnXBRCNe-"
      },
      "outputs": [],
      "source": [
        "# TO-DO: create dataframe 'encoded_df_reservations' that contains the appropriate one hot encoded columns\n",
        "encoded_df_reservations = pd.get_dummies(df_reservations, columns = ['type_of_meal_plan', 'room_type_reserved', 'market_segment_type'])"
      ]
    },
    {
      "cell_type": "code",
      "execution_count": null,
      "metadata": {
        "colab": {
          "base_uri": "https://localhost:8080/",
          "height": 209
        },
        "id": "fvEcv14XGrV2",
        "outputId": "492fe09b-6201-4a7d-e372-50aa4925cfc0"
      },
      "outputs": [
        {
          "data": {
            "text/html": [
              "\n",
              "  <div id=\"df-610cfd5a-8df5-440e-b455-d5365662d845\">\n",
              "    <div class=\"colab-df-container\">\n",
              "      <div>\n",
              "<style scoped>\n",
              "    .dataframe tbody tr th:only-of-type {\n",
              "        vertical-align: middle;\n",
              "    }\n",
              "\n",
              "    .dataframe tbody tr th {\n",
              "        vertical-align: top;\n",
              "    }\n",
              "\n",
              "    .dataframe thead th {\n",
              "        text-align: right;\n",
              "    }\n",
              "</style>\n",
              "<table border=\"1\" class=\"dataframe\">\n",
              "  <thead>\n",
              "    <tr style=\"text-align: right;\">\n",
              "      <th></th>\n",
              "      <th>no_of_adults</th>\n",
              "      <th>no_of_children</th>\n",
              "      <th>no_of_weekend_nights</th>\n",
              "      <th>no_of_week_nights</th>\n",
              "      <th>required_car_parking_space</th>\n",
              "      <th>lead_time</th>\n",
              "      <th>arrival_year</th>\n",
              "      <th>arrival_month</th>\n",
              "      <th>arrival_date</th>\n",
              "      <th>repeated_guest</th>\n",
              "      <th>...</th>\n",
              "      <th>room_type_reserved_Room_Type 3</th>\n",
              "      <th>room_type_reserved_Room_Type 4</th>\n",
              "      <th>room_type_reserved_Room_Type 5</th>\n",
              "      <th>room_type_reserved_Room_Type 6</th>\n",
              "      <th>room_type_reserved_Room_Type 7</th>\n",
              "      <th>market_segment_type_Aviation</th>\n",
              "      <th>market_segment_type_Complementary</th>\n",
              "      <th>market_segment_type_Corporate</th>\n",
              "      <th>market_segment_type_Offline</th>\n",
              "      <th>market_segment_type_Online</th>\n",
              "    </tr>\n",
              "  </thead>\n",
              "  <tbody>\n",
              "    <tr>\n",
              "      <th>0</th>\n",
              "      <td>2</td>\n",
              "      <td>0</td>\n",
              "      <td>1</td>\n",
              "      <td>2</td>\n",
              "      <td>0</td>\n",
              "      <td>224</td>\n",
              "      <td>2017</td>\n",
              "      <td>10</td>\n",
              "      <td>2</td>\n",
              "      <td>0</td>\n",
              "      <td>...</td>\n",
              "      <td>0</td>\n",
              "      <td>0</td>\n",
              "      <td>0</td>\n",
              "      <td>0</td>\n",
              "      <td>0</td>\n",
              "      <td>0</td>\n",
              "      <td>0</td>\n",
              "      <td>0</td>\n",
              "      <td>1</td>\n",
              "      <td>0</td>\n",
              "    </tr>\n",
              "    <tr>\n",
              "      <th>1</th>\n",
              "      <td>2</td>\n",
              "      <td>0</td>\n",
              "      <td>2</td>\n",
              "      <td>3</td>\n",
              "      <td>0</td>\n",
              "      <td>5</td>\n",
              "      <td>2018</td>\n",
              "      <td>11</td>\n",
              "      <td>6</td>\n",
              "      <td>0</td>\n",
              "      <td>...</td>\n",
              "      <td>0</td>\n",
              "      <td>0</td>\n",
              "      <td>0</td>\n",
              "      <td>0</td>\n",
              "      <td>0</td>\n",
              "      <td>0</td>\n",
              "      <td>0</td>\n",
              "      <td>0</td>\n",
              "      <td>0</td>\n",
              "      <td>1</td>\n",
              "    </tr>\n",
              "  </tbody>\n",
              "</table>\n",
              "<p>2 rows × 31 columns</p>\n",
              "</div>\n",
              "      <button class=\"colab-df-convert\" onclick=\"convertToInteractive('df-610cfd5a-8df5-440e-b455-d5365662d845')\"\n",
              "              title=\"Convert this dataframe to an interactive table.\"\n",
              "              style=\"display:none;\">\n",
              "        \n",
              "  <svg xmlns=\"http://www.w3.org/2000/svg\" height=\"24px\"viewBox=\"0 0 24 24\"\n",
              "       width=\"24px\">\n",
              "    <path d=\"M0 0h24v24H0V0z\" fill=\"none\"/>\n",
              "    <path d=\"M18.56 5.44l.94 2.06.94-2.06 2.06-.94-2.06-.94-.94-2.06-.94 2.06-2.06.94zm-11 1L8.5 8.5l.94-2.06 2.06-.94-2.06-.94L8.5 2.5l-.94 2.06-2.06.94zm10 10l.94 2.06.94-2.06 2.06-.94-2.06-.94-.94-2.06-.94 2.06-2.06.94z\"/><path d=\"M17.41 7.96l-1.37-1.37c-.4-.4-.92-.59-1.43-.59-.52 0-1.04.2-1.43.59L10.3 9.45l-7.72 7.72c-.78.78-.78 2.05 0 2.83L4 21.41c.39.39.9.59 1.41.59.51 0 1.02-.2 1.41-.59l7.78-7.78 2.81-2.81c.8-.78.8-2.07 0-2.86zM5.41 20L4 18.59l7.72-7.72 1.47 1.35L5.41 20z\"/>\n",
              "  </svg>\n",
              "      </button>\n",
              "      \n",
              "  <style>\n",
              "    .colab-df-container {\n",
              "      display:flex;\n",
              "      flex-wrap:wrap;\n",
              "      gap: 12px;\n",
              "    }\n",
              "\n",
              "    .colab-df-convert {\n",
              "      background-color: #E8F0FE;\n",
              "      border: none;\n",
              "      border-radius: 50%;\n",
              "      cursor: pointer;\n",
              "      display: none;\n",
              "      fill: #1967D2;\n",
              "      height: 32px;\n",
              "      padding: 0 0 0 0;\n",
              "      width: 32px;\n",
              "    }\n",
              "\n",
              "    .colab-df-convert:hover {\n",
              "      background-color: #E2EBFA;\n",
              "      box-shadow: 0px 1px 2px rgba(60, 64, 67, 0.3), 0px 1px 3px 1px rgba(60, 64, 67, 0.15);\n",
              "      fill: #174EA6;\n",
              "    }\n",
              "\n",
              "    [theme=dark] .colab-df-convert {\n",
              "      background-color: #3B4455;\n",
              "      fill: #D2E3FC;\n",
              "    }\n",
              "\n",
              "    [theme=dark] .colab-df-convert:hover {\n",
              "      background-color: #434B5C;\n",
              "      box-shadow: 0px 1px 3px 1px rgba(0, 0, 0, 0.15);\n",
              "      filter: drop-shadow(0px 1px 2px rgba(0, 0, 0, 0.3));\n",
              "      fill: #FFFFFF;\n",
              "    }\n",
              "  </style>\n",
              "\n",
              "      <script>\n",
              "        const buttonEl =\n",
              "          document.querySelector('#df-610cfd5a-8df5-440e-b455-d5365662d845 button.colab-df-convert');\n",
              "        buttonEl.style.display =\n",
              "          google.colab.kernel.accessAllowed ? 'block' : 'none';\n",
              "\n",
              "        async function convertToInteractive(key) {\n",
              "          const element = document.querySelector('#df-610cfd5a-8df5-440e-b455-d5365662d845');\n",
              "          const dataTable =\n",
              "            await google.colab.kernel.invokeFunction('convertToInteractive',\n",
              "                                                     [key], {});\n",
              "          if (!dataTable) return;\n",
              "\n",
              "          const docLinkHtml = 'Like what you see? Visit the ' +\n",
              "            '<a target=\"_blank\" href=https://colab.research.google.com/notebooks/data_table.ipynb>data table notebook</a>'\n",
              "            + ' to learn more about interactive tables.';\n",
              "          element.innerHTML = '';\n",
              "          dataTable['output_type'] = 'display_data';\n",
              "          await google.colab.output.renderOutput(dataTable, element);\n",
              "          const docLink = document.createElement('div');\n",
              "          docLink.innerHTML = docLinkHtml;\n",
              "          element.appendChild(docLink);\n",
              "        }\n",
              "      </script>\n",
              "    </div>\n",
              "  </div>\n",
              "  "
            ],
            "text/plain": [
              "   no_of_adults  no_of_children  no_of_weekend_nights  no_of_week_nights  \\\n",
              "0             2               0                     1                  2   \n",
              "1             2               0                     2                  3   \n",
              "\n",
              "   required_car_parking_space  lead_time  arrival_year  arrival_month  \\\n",
              "0                           0        224          2017             10   \n",
              "1                           0          5          2018             11   \n",
              "\n",
              "   arrival_date  repeated_guest  ...  room_type_reserved_Room_Type 3  \\\n",
              "0             2               0  ...                               0   \n",
              "1             6               0  ...                               0   \n",
              "\n",
              "   room_type_reserved_Room_Type 4  room_type_reserved_Room_Type 5  \\\n",
              "0                               0                               0   \n",
              "1                               0                               0   \n",
              "\n",
              "   room_type_reserved_Room_Type 6 room_type_reserved_Room_Type 7  \\\n",
              "0                               0                              0   \n",
              "1                               0                              0   \n",
              "\n",
              "   market_segment_type_Aviation  market_segment_type_Complementary  \\\n",
              "0                             0                                  0   \n",
              "1                             0                                  0   \n",
              "\n",
              "   market_segment_type_Corporate  market_segment_type_Offline  \\\n",
              "0                              0                            1   \n",
              "1                              0                            0   \n",
              "\n",
              "   market_segment_type_Online  \n",
              "0                           0  \n",
              "1                           1  \n",
              "\n",
              "[2 rows x 31 columns]"
            ]
          },
          "execution_count": 32,
          "metadata": {},
          "output_type": "execute_result"
        }
      ],
      "source": [
        "# CHECK: display the first two rows of 'encoded_df_reservations'\n",
        "encoded_df_reservations.head(2)"
      ]
    },
    {
      "cell_type": "code",
      "execution_count": null,
      "metadata": {
        "colab": {
          "base_uri": "https://localhost:8080/"
        },
        "id": "sa082oxXE8F-",
        "outputId": "fee00cb4-88f3-42e5-8d36-55643624f2d7"
      },
      "outputs": [
        {
          "name": "stdout",
          "output_type": "stream",
          "text": [
            "Correct! You earned 2/2 points. You are a star!\n",
            "\n",
            "Your submission has been successfully recorded in the gradebook.\n"
          ]
        }
      ],
      "source": [
        "#Grader Cell (2 points)\n",
        "grader.grade(test_case_id = 'one_hot_encoded', answer = encoded_df_reservations.head(10))"
      ]
    },
    {
      "cell_type": "markdown",
      "metadata": {
        "id": "4bVkkvxRrWuc"
      },
      "source": [
        "### **1.3.2** Change 'booking_status' to Boolean [2 pts]"
      ]
    },
    {
      "cell_type": "markdown",
      "metadata": {
        "id": "SGMeJ17zsX5v"
      },
      "source": [
        "We will use `encoded_df_reservations` starting from 1.3.2\n",
        "\n",
        "We will be predicting the `\"booking_status\"` for our classification problem. Let's convert this column into a Boolean column.\n",
        "\n",
        "**Input:** Use `encoded_df_reservations` in forward sections\n",
        "\n",
        "**Task:** If the `\"booking_status\"` is \"Canceled\", set it to 1. Otherwise, set it to 0.\n",
        "\n",
        "_(Aside: while this may sound oddly familiar, please note that this is not the same as your Midterm 1)_"
      ]
    },
    {
      "cell_type": "code",
      "execution_count": null,
      "metadata": {
        "id": "jcbPXfEuEy6s"
      },
      "outputs": [],
      "source": [
        "# TO-DO: canceled = 1, not canceled = 0\n",
        "\n",
        "\n",
        "encoded_df_reservations.loc[encoded_df_reservations[\"booking_status\"] == \"Canceled\", \"booking_status\"] = 1\n",
        "encoded_df_reservations.loc[encoded_df_reservations[\"booking_status\"] != 1, \"booking_status\"] = 0"
      ]
    },
    {
      "cell_type": "code",
      "execution_count": null,
      "metadata": {
        "colab": {
          "base_uri": "https://localhost:8080/"
        },
        "id": "ILEHbWkbrrfi",
        "outputId": "626bf4ce-6768-4577-ad08-3a16d05d6231"
      },
      "outputs": [
        {
          "name": "stdout",
          "output_type": "stream",
          "text": [
            "Correct! You earned 2/2 points. You are a star!\n",
            "\n",
            "Your submission has been successfully recorded in the gradebook.\n"
          ]
        }
      ],
      "source": [
        "# Grader Cell (2 points)\n",
        "grader.grade(test_case_id = 'boolean_booking', answer = encoded_df_reservations.head(20)['booking_status'])"
      ]
    },
    {
      "cell_type": "markdown",
      "metadata": {
        "id": "K-iqlFZacKO9"
      },
      "source": [
        "## **1.4** Modeling (sklearn) [Total: 43 points]"
      ]
    },
    {
      "cell_type": "markdown",
      "metadata": {
        "id": "xPBSUmK9HRHc"
      },
      "source": [
        "### **1.4.1** Preprocessing: Create Features and Label and Split Data into Train and Test [4 pts]\n",
        "\n",
        "Now that we have explored and cleaned our dataset, let's prepare it for a machine learning task. In this homework, you will work with various models and attempt to predict whether a room booking will be cancelled or not.\n",
        "\n",
        "The features will be all the variables in the dataset **except** `\"booking_status\"`, which will act as the label for our problem. First, store these two as `features` (pd.DataFrame) and `target` (pd.Series), respectively."
      ]
    },
    {
      "cell_type": "code",
      "execution_count": null,
      "metadata": {
        "id": "N7_jhB-LEVNK"
      },
      "outputs": [],
      "source": [
        "# TO-DO: stores features dataframe into variable called \"features\"\n",
        "features = encoded_df_reservations.drop(axis =1, columns = ['booking_status'])\n"
      ]
    },
    {
      "cell_type": "code",
      "execution_count": null,
      "metadata": {
        "id": "tAuxd7Q2rbYO"
      },
      "outputs": [],
      "source": [
        "# TO-DO: store the classification target variable into \"target\"\n",
        "target = encoded_df_reservations['booking_status']"
      ]
    },
    {
      "cell_type": "markdown",
      "metadata": {
        "id": "Q4IK9S59ud0Q"
      },
      "source": [
        "Now, use scikit-learn's `train_test_split` function to split data for regression into train and test sets. The split should be 80-20 meaning 80% for training and rest for testing.\n",
        "\n",
        "**_IMPORTANT_:** Please set the `seed` variable to 42, then set the parameter to `random_state = seed`, and then finally store the resulting splits as `X_train, X_test, y_train,` and `y_test`."
      ]
    },
    {
      "cell_type": "code",
      "execution_count": null,
      "metadata": {
        "id": "D48UmEtDEo0g"
      },
      "outputs": [],
      "source": [
        "# TO-DO: Assign appropriate value to seed and conduct 80/20 train-test split with random_state = seed\n",
        "seed = 42\n",
        "X_train, X_test, y_train, y_test = train_test_split(features, target, test_size=0.2, random_state = seed)"
      ]
    },
    {
      "cell_type": "code",
      "execution_count": null,
      "metadata": {
        "colab": {
          "base_uri": "https://localhost:8080/"
        },
        "id": "Z4SMMl8JEqnT",
        "outputId": "f27d9d00-c887-4d4b-96a7-6c32e84aca47"
      },
      "outputs": [
        {
          "name": "stdout",
          "output_type": "stream",
          "text": [
            "Correct! You earned 4/4 points. You are a star!\n",
            "\n",
            "Your submission has been successfully recorded in the gradebook.\n"
          ]
        }
      ],
      "source": [
        "# Grader Cell (4 points)\n",
        "grader.grade(test_case_id = 'train_test_split_classification', answer = (X_train.shape, X_test.shape,\n",
        "                                                                         y_train.shape, y_test.shape,\n",
        "                                                                         seed, Counter(y_test)))"
      ]
    },
    {
      "cell_type": "markdown",
      "metadata": {
        "id": "IQid9KfyIN2-"
      },
      "source": [
        "### **1.4.2** Classification Models"
      ]
    },
    {
      "cell_type": "markdown",
      "metadata": {
        "id": "M1Vj9AkIIgpL"
      },
      "source": [
        "#### (a) Logistic Regression [2 pts]\n",
        "\n",
        "Fit a Logistic regression classifier on the `X_train` and `y_train` with the default hyperparameters. Calculate the accuracy of the model on the test set using the `score` method and store it in a variable named `log_acc`"
      ]
    },
    {
      "cell_type": "code",
      "execution_count": null,
      "metadata": {
        "colab": {
          "base_uri": "https://localhost:8080/"
        },
        "id": "cS9UpoTmEsin",
        "outputId": "10c8be93-a974-4d17-e52d-de5998799603"
      },
      "outputs": [
        {
          "name": "stderr",
          "output_type": "stream",
          "text": [
            "/usr/local/lib/python3.10/dist-packages/sklearn/linear_model/_logistic.py:458: ConvergenceWarning: lbfgs failed to converge (status=1):\n",
            "STOP: TOTAL NO. of ITERATIONS REACHED LIMIT.\n",
            "\n",
            "Increase the number of iterations (max_iter) or scale the data as shown in:\n",
            "    https://scikit-learn.org/stable/modules/preprocessing.html\n",
            "Please also refer to the documentation for alternative solver options:\n",
            "    https://scikit-learn.org/stable/modules/linear_model.html#logistic-regression\n",
            "  n_iter_i = _check_optimize_result(\n"
          ]
        }
      ],
      "source": [
        "# TO-DO: Import required libraries\n",
        "from sklearn.linear_model import LogisticRegression\n",
        "import sklearn.metrics\n",
        "\n",
        "# TO-DO: Initialize model with default parameters and fit it on the training set\n",
        "clf = LogisticRegression()\n",
        "clf.fit(X_train,y_train.astype('int'))\n",
        "\n",
        "\n",
        "# TO-DO: Use the model to predict on the test set and save these predictions as `y_pred`\n",
        "y_pred = clf.predict(X_test)\n",
        "\n",
        "# TO-DO: Find the accuracy and store the value in `log_acc`\n",
        "\n",
        "log_acc = sklearn.metrics.accuracy_score(y_pred,y_test.astype('int'))\n",
        "\n"
      ]
    },
    {
      "cell_type": "code",
      "execution_count": null,
      "metadata": {
        "colab": {
          "base_uri": "https://localhost:8080/"
        },
        "id": "EyfS-7oIF88y",
        "outputId": "2e219512-5f16-4e35-e782-9db31818a77a"
      },
      "outputs": [
        {
          "name": "stdout",
          "output_type": "stream",
          "text": [
            "Correct! You earned 2/2 points. You are a star!\n",
            "\n",
            "Your submission has been successfully recorded in the gradebook.\n"
          ]
        }
      ],
      "source": [
        "# Grader Cell [2 points]\n",
        "grader.grade(test_case_id = 'check_log_clf', answer = log_acc)"
      ]
    },
    {
      "cell_type": "markdown",
      "metadata": {
        "id": "wgbNIcEFMch4"
      },
      "source": [
        "#### (b) Random Forest Classifier [3 pts]\n",
        "\n",
        "Fit a Random Forest classifier on the `X_train` and `y_train` with the following hyperparameters:\n",
        "- balanced class_weight\n",
        "- 120 estimators\n",
        "- maximum depth of 30\n",
        "- random seed set to 42\n",
        "\n",
        "Calculate the accuracy of the model on the test set using the `score` method and store it in a variable named `rf_acc`.\n",
        "Also, compute a [confusion matrix](https://scikit-learn.org/stable/modules/generated/sklearn.metrics.confusion_matrix.html) for your prediction and save it as `rf_confusion`."
      ]
    },
    {
      "cell_type": "code",
      "execution_count": null,
      "metadata": {
        "id": "tk9YGVBVFTIe"
      },
      "outputs": [],
      "source": [
        "# TO-DO: Import required libraries\n",
        "from sklearn.ensemble import RandomForestClassifier\n",
        "from sklearn.metrics import confusion_matrix\n",
        "\n",
        "# TO-DO: Initialize model with default parameters and fit it on the training set\n",
        "\n",
        "clf = RandomForestClassifier(n_estimators = 120, class_weight = \"balanced\" , max_depth=30, random_state=42)\n",
        "clf.fit(X_train, y_train.astype('int'))\n",
        "\n",
        "# TO-DO: Use the model to predict on the test set and save these predictions as `y_pred`\n",
        "y_pred = clf.predict(X_test)\n",
        "\n",
        "# TO-DO: Find the accuracy and store the value in `rf_acc`\n",
        "\n",
        "rf_acc = sklearn.metrics.accuracy_score(y_pred,y_test.astype('int'))\n",
        "\n",
        "# TO-DO: Compute the confusion matrix and save it to `rf_confusion`\n",
        "rf_confusion = confusion_matrix(y_test.astype('int'), y_pred.astype('int'))\n"
      ]
    },
    {
      "cell_type": "code",
      "execution_count": null,
      "metadata": {
        "colab": {
          "base_uri": "https://localhost:8080/"
        },
        "id": "rlpS3wDEE9-T",
        "outputId": "2f2ed4d6-5111-410d-f15c-f7f7f2efed42"
      },
      "outputs": [
        {
          "name": "stdout",
          "output_type": "stream",
          "text": [
            "Correct! You earned 3/3 points. You are a star!\n",
            "\n",
            "Your submission has been successfully recorded in the gradebook.\n"
          ]
        }
      ],
      "source": [
        "# Grader Cell (3 points)\n",
        "grader.grade(test_case_id = 'check_rf_clf', answer = (rf_acc, rf_confusion))"
      ]
    },
    {
      "cell_type": "markdown",
      "metadata": {
        "id": "lbSul1eKNIVG"
      },
      "source": [
        "#### (c) PCA to Reduce Dimensionality [4 + 2 pts]\n",
        "\n",
        "The goal of Principal Component Analysis is to reduce number of dimensions of our features."
      ]
    },
    {
      "cell_type": "markdown",
      "metadata": {
        "id": "caGTeWhxNL3K"
      },
      "source": [
        "_**Initial PCA**_\n",
        "\n",
        "As a first step, instantiate the `PCA` class from scikit-learn and fit it on your training set. We are not reducing the dimensionality of our data in this step but rather trying to find what would be the ideal number of Principal Components to choose. So keep all Principal Components for this step\n",
        "\n",
        "Please remember that PCA is **not** scale-invariant! What does this imply you need to do first? This requires conceptual understanding to implement so make sure you _watched_ the corresponding lecture and recitation!\n",
        "\n",
        "<ins>WARNING</ins>: It is _CRITICALLY_ important that you understand the difference between the `.fit_transform`, `.fit` and `.transform` methods. This has been the most common mistake students have made in this homework, which has potentially made it more difficult for them. Without fully understanding this, those same students have gone on to make the same mistakes in the final exam and their project. We cannot emphasize this enough!"
      ]
    },
    {
      "cell_type": "code",
      "execution_count": null,
      "metadata": {
        "id": "PuETOl5gQuNb"
      },
      "outputs": [],
      "source": [
        "# TO-DO: Import necessary libraries\n",
        "from sklearn.decomposition import PCA\n",
        "from sklearn.preprocessing import StandardScaler\n"
      ]
    },
    {
      "cell_type": "code",
      "execution_count": null,
      "metadata": {
        "colab": {
          "base_uri": "https://localhost:8080/"
        },
        "id": "D4us_KsqtN1Y",
        "outputId": "be9a3f54-e26d-4c03-ed1a-08bd5f44a22d"
      },
      "outputs": [
        {
          "data": {
            "text/plain": [
              "array([[-1.02314789e+00,  5.66283769e-02, -2.28583528e-01, ...,\n",
              "         3.06694176e-13, -3.33395667e-14,  2.14016572e-15],\n",
              "       [-1.46213596e+00,  2.45301263e-01,  4.36294958e-01, ...,\n",
              "         5.12618426e-14,  1.80450888e-13,  6.57658424e-15],\n",
              "       [ 2.08562681e+00, -1.42216663e+00, -2.13228620e+00, ...,\n",
              "        -1.75452051e-14, -2.92782348e-14,  2.74564937e-14],\n",
              "       ...,\n",
              "       [ 1.00530481e+00,  1.86555246e+00,  1.00467330e-01, ...,\n",
              "        -5.75695893e-16, -7.18570755e-17,  1.93781324e-17],\n",
              "       [-2.88287961e-01, -4.46686016e-01, -1.80523151e-01, ...,\n",
              "        -9.33788861e-17,  1.11884350e-16, -7.13820363e-17],\n",
              "       [-1.75204551e+00,  1.17647523e+00, -1.07751905e+00, ...,\n",
              "        -2.48274715e-16,  5.47939243e-16,  2.40408382e-16]])"
            ]
          },
          "execution_count": 45,
          "metadata": {},
          "output_type": "execute_result"
        }
      ],
      "source": [
        "# TO-DO: Intermediate step to address fac that PCA is not scale-invariant\n",
        "scaler = StandardScaler()\n",
        "X_train_scaled = scaler.fit_transform(X_train)\n",
        "\n",
        "# TO-DO: Instantiate and Fit PCA\n",
        "pca = PCA()\n",
        "pca.fit_transform(X_train_scaled)\n"
      ]
    },
    {
      "cell_type": "markdown",
      "metadata": {
        "id": "oeJnO6EENQQq"
      },
      "source": [
        "_**Cumulative Explained Variance Ratios**_\n",
        "\n",
        "Create an array of explained variance ratios and store it into a variable called `explained_variance_ratios`. Also, calculate the _cumulative_ explained variance ratios and store that into another variable called `cum_evr`."
      ]
    },
    {
      "cell_type": "code",
      "execution_count": null,
      "metadata": {
        "id": "_o9yURt1GLMs"
      },
      "outputs": [],
      "source": [
        "# TO-DO: Save the explained variance ratios into variable called \"explained_variance_ratios\"\n",
        "explained_variance_ratios = pca.explained_variance_ratio_\n",
        "\n",
        "# TO-DO: Save the CUMULATIVE explained variance ratios into variable called \"cum_evr\"\n",
        "cum_evr = np.cumsum(explained_variance_ratios)\n"
      ]
    },
    {
      "cell_type": "code",
      "execution_count": null,
      "metadata": {
        "colab": {
          "base_uri": "https://localhost:8080/"
        },
        "id": "synUBPNMGY7e",
        "outputId": "22b354d5-4bf3-4b80-bca3-469a7d2b97ba"
      },
      "outputs": [
        {
          "name": "stdout",
          "output_type": "stream",
          "text": [
            "Correct! You earned 2/2 points. You are a star!\n",
            "\n",
            "Your submission has been successfully recorded in the gradebook.\n"
          ]
        }
      ],
      "source": [
        "#Grader cell (2 points)\n",
        "grader.grade(test_case_id = 'check_pca_explained_variance', answer = (explained_variance_ratios, cum_evr))"
      ]
    },
    {
      "cell_type": "markdown",
      "metadata": {
        "id": "UNzvjLeTNZB-"
      },
      "source": [
        "Now plot the _cumulative_ `explained_variance_ratio` against the number of components to decide the number of components you should keep (this should look very similar to a visualization in lecture). Also add a horizontal line that represents the 80% of the variance as a threshold.\n",
        "\n",
        "As before, you should ensure that the plot follows the best practices you've developed over the past 2 plotting exercises in this HW (Labelling the axes and adding title to the plot, readability, etc.). **This will be manually graded for 2 points**\n",
        "\n",
        "_**CAUTION:** Recall that Python starts counting from 0, but this would make it very intuitive when reading from your graph. We strongly recommend that you modify the x-axis of your graph so that the **number of components begins at 1**. Otherwise, you may risk making silly mistakes in the subsequent sections._"
      ]
    },
    {
      "cell_type": "code",
      "execution_count": null,
      "metadata": {
        "colab": {
          "base_uri": "https://localhost:8080/",
          "height": 489
        },
        "id": "FpuM4rGYNZ56",
        "outputId": "38911a89-d986-4122-eb14-5ff8304d2899"
      },
      "outputs": [
        {
          "data": {
            "text/plain": [
              "(1.0, 30.45)"
            ]
          },
          "execution_count": 48,
          "metadata": {},
          "output_type": "execute_result"
        },
        {
          "data": {
            "image/png": "[encoded data removed]",
            "text/plain": [
              "<Figure size 640x480 with 1 Axes>"
            ]
          },
          "metadata": {},
          "output_type": "display_data"
        }
      ],
      "source": [
        "# TO-DO: find optimal num components to use (n) by plotting explained variance ratio (2 points)\n",
        "ax = plt.plot(cum_evr)\n",
        "plt.title('Variance Ratio vs Number of Components')\n",
        "plt.xlabel('Number of Components')\n",
        "plt.ylabel('Variance Ratio')\n",
        "plt.axhline(y = 0.8, color = 'r', linestyle = '-')\n",
        "x_ticks = [1, 5, 10, 15, 20, 25, 30]\n",
        "\n",
        "#specify x-axis labels\n",
        "x_labels = [1, 5, 10, 15, 20, 25, 30]\n",
        "\n",
        "#add x-axis values to plot\n",
        "plt.xticks(ticks=x_ticks, labels=x_labels)\n",
        "plt.xlim(xmin=1)\n",
        "\n",
        "\n",
        "\n",
        "\n"
      ]
    },
    {
      "cell_type": "markdown",
      "metadata": {
        "id": "PIhrE2ILNmve"
      },
      "source": [
        "_**Final PCA**_\n",
        "\n",
        "Using your results above to help you decide the number of components to keep, choose a number (`n`) that explains **at least 80% of total variance** in the dataset. Then re-fit and transform your PCA on the training set using the number of components you decided.\n",
        "\n",
        "Remember that your PCA should be trained on the training set (`X_train`) but only transformed on the test set (`X_test`).\n",
        "\n",
        "Call your transformed set of principal components `X_test_pca` in order to submit it to the autograder."
      ]
    },
    {
      "cell_type": "code",
      "execution_count": null,
      "metadata": {
        "id": "o3jrh59gGZ0s"
      },
      "outputs": [],
      "source": [
        "# TO-DO: Get transformed set of principal components on x_test\n",
        "\n",
        "# 1. Refit and transform on training with parameter n (as deduced from the last step)\n",
        "\n",
        "pca = PCA(n_components=17)\n",
        "X_train_pca = pca.fit_transform(X_train_scaled)\n",
        "\n",
        "# 2. Transform on Testing Set and store it as `X_test_pca`\n",
        "X_test_scaled = scaler.transform(X_test)\n",
        "X_test_pca = pca.transform(X_test_scaled)\n",
        "\n"
      ]
    },
    {
      "cell_type": "code",
      "execution_count": null,
      "metadata": {
        "colab": {
          "base_uri": "https://localhost:8080/"
        },
        "id": "QlIUmcW5Gl0M",
        "outputId": "99fa06b2-1a71-4dff-cb5f-31c6f49e04c6"
      },
      "outputs": [
        {
          "name": "stdout",
          "output_type": "stream",
          "text": [
            "Correct! You earned 2/2 points. You are a star!\n",
            "\n",
            "Your submission has been successfully recorded in the gradebook.\n"
          ]
        }
      ],
      "source": [
        "# Grader cell (2 points)\n",
        "grader.grade(test_case_id = 'check_fitted_pca', answer = X_test_pca)"
      ]
    },
    {
      "cell_type": "markdown",
      "metadata": {
        "id": "TzIlLTj0Nq92"
      },
      "source": [
        "#### (d) Logistic Regression with PCA [4 pts]\n",
        "\n",
        "1. Fit the logistic regression on your Final Principal Components data using your optimal `n`. Name the model `log_reg_pca`\n",
        "2. Make predictions on the **test** set and store this as `y_pred`.\n",
        "3. Report accuracy for the **test** set and call it `test_accuracy`"
      ]
    },
    {
      "cell_type": "code",
      "execution_count": null,
      "metadata": {
        "id": "z5w5ZgkAGoXh"
      },
      "outputs": [],
      "source": [
        "# TO-DO: Initialize `log_reg_pca` model with default parameters and fit it on the PCA transformed training set\n",
        "from sklearn.linear_model import LogisticRegression\n",
        "log_reg_pca = LogisticRegression()\n",
        "log_reg_pca.fit(X_train_pca, y_train.astype('int'))\n",
        "\n",
        "# TO-DO: Use the model to predict on the PCA transformed test set and save these predictions as `y_pred`\n",
        "y_pred = log_reg_pca.predict(X_test_pca)\n",
        "\n",
        "# TO-DO: Find the accuracy and store the value in `test_accuracy`\n",
        "\n",
        "test_accuracy = sklearn.metrics.accuracy_score(y_pred,y_test.astype('int'))"
      ]
    },
    {
      "cell_type": "code",
      "execution_count": null,
      "metadata": {
        "colab": {
          "base_uri": "https://localhost:8080/"
        },
        "id": "WVrpOF6NHDVX",
        "outputId": "e6ec0e05-c887-4966-b645-79dc883cdf35"
      },
      "outputs": [
        {
          "name": "stdout",
          "output_type": "stream",
          "text": [
            "Correct! You earned 4/4 points. You are a star!\n",
            "\n",
            "Your submission has been successfully recorded in the gradebook.\n"
          ]
        }
      ],
      "source": [
        "# Grader (4 points)\n",
        "grader.grade(test_case_id = 'check_log_reg_pca', answer = (test_accuracy, log_reg_pca.n_features_in_, y_pred))"
      ]
    },
    {
      "cell_type": "markdown",
      "metadata": {
        "id": "tYGjFnJ8kfaK"
      },
      "source": [
        "### **1.4.3.0** Regression: Split Data into Train and Test [4 pts]\n",
        "\n",
        "\n",
        "**Task:**\n",
        " We will be predicting `avg_price_per_room` for regression models.\n",
        "\n",
        " Drop the columns: `'arrival_year'`,`arrival_month`, `'arrival_date'`,`'no_of_previous_cancellations'`, `'no_of_previous_bookings_not_canceled'` `'booking_status'`\n",
        " from `encoded_df_reservations` and save the dataframe to `reg_df_reservations`. Then, use scikit-learn's `train_test_split` function to split data for regression into train and test sets. The split should be 80-20 meaning 80% for training and rest for testing.\n",
        "\n",
        "\n",
        "**_IMPORTANT_: Please set the `seed` variable to 42 and then set the parameter to `random_state = seed`** and store the resulting splits as `X_train, X_test, y_train,` and `y_test`."
      ]
    },
    {
      "cell_type": "code",
      "execution_count": null,
      "metadata": {
        "id": "NzF_JNnEhvBC"
      },
      "outputs": [],
      "source": [
        "# TO-DO: drop arrival_year, arrival_month, arrival_date, no_of_previous_cancellations, no_of_previous_bookings_not_canceled,booking_status\n",
        "\n",
        "reg_df_reservations = encoded_df_reservations.drop(axis =1, columns = ['arrival_year','arrival_month', 'arrival_date','no_of_previous_cancellations', 'no_of_previous_bookings_not_canceled' ,'booking_status'])\n",
        "# TO-DO: save the dataframe to reg_df_reservations\n",
        "\n"
      ]
    },
    {
      "cell_type": "code",
      "execution_count": null,
      "metadata": {
        "id": "5f8a8uTcmTSV"
      },
      "outputs": [],
      "source": [
        "# TO-DO: stores features dataframe into variable called \"features\"\n",
        "\n",
        "features = reg_df_reservations.drop(axis =1, columns = ['avg_price_per_room'])\n",
        "# TO-DO: store the classification target variable  (`avg_price_per_room`) into \"target\"\n",
        "\n",
        "target = reg_df_reservations['avg_price_per_room']\n",
        "\n"
      ]
    },
    {
      "cell_type": "code",
      "execution_count": null,
      "metadata": {
        "id": "Z5rG25VRkfaL"
      },
      "outputs": [],
      "source": [
        "# TO-DO: Assign appropriate value to seed and conduct 80/20 train-test split with random_state = seed\n",
        "seed = 42\n",
        "X_train, X_test, y_train, y_test = train_test_split(features, target, test_size=0.2, random_state = seed)"
      ]
    },
    {
      "cell_type": "code",
      "execution_count": null,
      "metadata": {
        "colab": {
          "base_uri": "https://localhost:8080/"
        },
        "id": "FfU3m6MNkfaL",
        "outputId": "a5d7a87d-4df3-4a8d-d6ae-174705018fc7"
      },
      "outputs": [
        {
          "name": "stdout",
          "output_type": "stream",
          "text": [
            "Correct! You earned 4/4 points. You are a star!\n",
            "\n",
            "Your submission has been successfully recorded in the gradebook.\n"
          ]
        }
      ],
      "source": [
        "# Grader cell (4 points)\n",
        "grader.grade(test_case_id = 'train_test_split_regression', answer = (X_train.shape, X_test.shape,\n",
        "                                                                     y_train.shape, y_test.shape,\n",
        "                                                                     seed, len([i for i in y_test if i < 100])))"
      ]
    },
    {
      "cell_type": "markdown",
      "metadata": {
        "id": "NGlb6tnNcKO-"
      },
      "source": [
        "### **1.4.3.1** Regression Models\n",
        "\n",
        "In this section, we will switch from classification models to regression models.\n",
        "\n",
        "Let's use the features we created in 1.4.3.0 to create regression models and predict the **average price per room**."
      ]
    },
    {
      "cell_type": "markdown",
      "metadata": {
        "id": "kS06q6k8UosE"
      },
      "source": [
        "#### (a) Linear Regression (Unregularized) [5 pts]\n",
        "\n",
        "Use the `LinearRegression` class in scikit-learn to perform Linear Regression. Initialize a Linear regression model named `reg` with default parameters, fit the model to the training set, and then make predictions on the testing set.\n",
        "\n",
        "Save your predictions in an array named `y_pred`, and report your R-squared score (saved it as a variable called `lin_reg_score`)."
      ]
    },
    {
      "cell_type": "code",
      "execution_count": null,
      "metadata": {
        "colab": {
          "base_uri": "https://localhost:8080/"
        },
        "id": "6PCTGcGEokY2",
        "outputId": "076a9b7b-4a0d-4c6d-b361-1698ac091b19"
      },
      "outputs": [
        {
          "name": "stdout",
          "output_type": "stream",
          "text": [
            "0.45067720722116156\n",
            "0.45067720722116156\n"
          ]
        }
      ],
      "source": [
        "# TO-DO: Import required libraries\n",
        "from sklearn.linear_model import LinearRegression\n",
        "\n",
        "# TO-DO: Initialize model with default parameters and fit it on the training set\n",
        "reg = LinearRegression()\n",
        "reg.fit(X_train, y_train)\n",
        "\n",
        "# TO-DO: Use the model to predict on the test set and save these predictions as `y_pred`\n",
        "\n",
        "\n",
        "y_pred = reg.predict(X_test)\n",
        "\n",
        "\n",
        "# TO-DO: Find the R-squared score and store the value in `lin_reg_score`\n",
        "lin_reg_score = sklearn.metrics.r2_score(y_test, y_pred)\n",
        "print(lin_reg_score)\n",
        "lin_reg_score = reg.score(X_test,y_test)\n",
        "print(lin_reg_score)\n",
        "\n",
        "#lin_reg_acc = sklearn.metrics.accuracy_score(y_pred,y_test.astype('int'))"
      ]
    },
    {
      "cell_type": "code",
      "execution_count": null,
      "metadata": {
        "colab": {
          "base_uri": "https://localhost:8080/"
        },
        "id": "YCABLR7TokV4",
        "outputId": "77cc904a-7834-423b-86e9-c9605a8ee4dd"
      },
      "outputs": [
        {
          "name": "stdout",
          "output_type": "stream",
          "text": [
            "Correct! You earned 5/5 points. You are a star!\n",
            "\n",
            "Your submission has been successfully recorded in the gradebook.\n"
          ]
        }
      ],
      "source": [
        "# Grader (5 points)\n",
        "\n",
        "grader.grade(test_case_id = 'check_linear_reg', answer = (lin_reg_score, reg.coef_, reg.intercept_))"
      ]
    },
    {
      "cell_type": "markdown",
      "metadata": {
        "id": "G7EV4dpDcKO_"
      },
      "source": [
        "#### (b) Ridge Regression [2 pts]\n",
        "\n",
        "Use the `Ridge` class in scikit-learn to perform $L_2$ Regularized Linear Regression. Initialize a Ridge regression model named `reg_ridge` with regularization strength `alpha = 10`, fit the model to the training set, and then make predictions on the testing set.\n",
        "\n",
        "**Note:** Recall that Ridge regression is not scale-invariant, so you will need to standardize the features prior to modeling.\n",
        "\n",
        "Report your $R^2$ score and save it as a variable called `ridge_score`."
      ]
    },
    {
      "cell_type": "code",
      "execution_count": null,
      "metadata": {
        "id": "pUi11tA3zCUe"
      },
      "outputs": [],
      "source": [
        "# TO-DO: Intermediate step to address scale-invariance\n",
        "from sklearn.preprocessing import StandardScaler\n",
        "scaler = StandardScaler()\n",
        "X_train_scaled = scaler.fit_transform(X_train)\n",
        "X_test_scaled = scaler.transform(X_test)"
      ]
    },
    {
      "cell_type": "code",
      "execution_count": null,
      "metadata": {
        "id": "tng1e7myy9gn"
      },
      "outputs": [],
      "source": [
        "# TO-DO: Import required libraries\n",
        "from sklearn.linear_model import Ridge\n",
        "\n",
        "# TO-DO: Initialize model with alpha = 10 (keep other hyperparameters as default values) and fit it on the training set\n",
        "reg_ridge = Ridge(alpha = 10)\n",
        "reg_ridge.fit(X_train_scaled, y_train)\n",
        "\n",
        "# TO-DO: Use the model to predict on the test set and save these predictions as `y_pred`\n",
        "y_pred = reg_ridge.predict(X_test_scaled)\n",
        "\n",
        "# TO-DO: Find the R-squared score and store the value in `ridge_score`\n",
        "ridge_score = reg_ridge.score(X_test_scaled,y_test)\n"
      ]
    },
    {
      "cell_type": "code",
      "execution_count": null,
      "metadata": {
        "colab": {
          "base_uri": "https://localhost:8080/"
        },
        "id": "ytmTMU7Z0jxo",
        "outputId": "31e78887-11aa-4611-fb16-1105ff3b44f8"
      },
      "outputs": [
        {
          "name": "stdout",
          "output_type": "stream",
          "text": [
            "Correct! You earned 2/2 points. You are a star!\n",
            "\n",
            "Your submission has been successfully recorded in the gradebook.\n"
          ]
        }
      ],
      "source": [
        "# Grader (2 points)\n",
        "grader.grade(test_case_id = 'check_ridge_reg', answer = (ridge_score, reg_ridge.alpha))"
      ]
    },
    {
      "cell_type": "markdown",
      "metadata": {
        "id": "A1Cl9DePQzfq"
      },
      "source": [
        "_**Exam-Style Practice Questions:**_\n",
        "\n",
        "_(While we will NOT grade this for the purpose of the HW, it is in your best interest to take just 30-60 seconds to think about this as I may very well put something similar in the final exam!_ 😉_)_\n",
        "\n",
        "- What do you notice about the $R^2$ scores of the Ridge and unregularized Linear Regression above?\n",
        "- If Ridge is supposed to \"improve\" Linear Regression, we may find it unusual if that is not happening here. Under what circumstances would we consider using Ridge over unregularized Linear Regression?\n",
        "- Would you expect different results if we made `alpha` bigger ($\\alpha \\rightarrow \\infty$)? smaller ($\\alpha \\rightarrow 0$)? Why or why not?"
      ]
    },
    {
      "cell_type": "markdown",
      "metadata": {
        "id": "dRb_Kzn1pZBD"
      },
      "source": [
        "#### (c) Random Forest Regression [3 pts]\n",
        "\n",
        "From the results of linear regression and ridge linear regression, we see a linear model may not be ideal for this regression problem. We want a model that can capture the complex relationship between the target variable and the features. Fortunately, we have access to ensemble methods, which combine multiple simple models to improve performance. We will explore the bagging algorithm called Random Forest Regressor using scikit-learn.\n",
        "\n",
        "Use the `RandomForestRegressor` class in Scikit-learn's ensemble library to perform Random Forest Regression. Initialize a Random Forest regression model named `reg_rf`, fit the model to the training set, and then make predictions on the testing set.\n",
        "\n",
        "Report your R-squared score and save it as a variable called `rfr_score`, set random state to 42"
      ]
    },
    {
      "cell_type": "code",
      "execution_count": null,
      "metadata": {
        "id": "zSqhgdjqokTa"
      },
      "outputs": [],
      "source": [
        "# TO-DO: Import required libraries\n",
        "from sklearn.ensemble import RandomForestRegressor\n",
        "\n",
        "# TO-DO: Initialize model with default parameters and fit it on the training set\n",
        "reg_rf = RandomForestRegressor()\n",
        "reg_rf.fit(X_train, y_train)\n",
        "\n",
        "# TO-DO: Use the model to predict on the test set and save these predictions as `y_pred`\n",
        "\n",
        "y_pred = reg_rf.predict(X_test)\n",
        "\n",
        "# TO-DO: Find the R-squared score and store the value in `rfr_score`\n",
        "rfr_score = sklearn.metrics.r2_score(y_test, y_pred)\n"
      ]
    },
    {
      "cell_type": "code",
      "execution_count": null,
      "metadata": {
        "colab": {
          "base_uri": "https://localhost:8080/"
        },
        "id": "vkJoI5QTpID8",
        "outputId": "b64e1de3-14ae-4a5b-eeb4-a0808203402d"
      },
      "outputs": [
        {
          "name": "stdout",
          "output_type": "stream",
          "text": [
            "Correct! You earned 3/3 points. You are a star!\n",
            "\n",
            "Your submission has been successfully recorded in the gradebook.\n"
          ]
        }
      ],
      "source": [
        "# Grader (3 points)\n",
        "grader.grade(test_case_id = 'check_rf_reg', answer = (rfr_score, reg_rf.feature_names_in_, reg_rf.n_outputs_, y_pred))"
      ]
    },
    {
      "cell_type": "markdown",
      "metadata": {
        "id": "iX1UkLEjk7U_"
      },
      "source": [
        "### **1.4.4** K-Means Clustering\n",
        "\n",
        "K-means clustering is a popular unsupervised machine learning algorithm that is used for grouping similar data points into a predetermined number of clusters. It is a simple and effective algorithm that is widely used in various fields such as image processing, recommendation systems, and customer segmentation.\n",
        "\n",
        "An elbow plot is a visualization tool used to determine the optimal number of clusters for a dataset. It plots the within-cluster sum of squares (WCSS) against the number of clusters. WCSS is the sum of the squared distance between each data point and its assigned centroid. The elbow plot helps you to choose the number of clusters that minimize the WCSS while avoiding overfitting.\n",
        "\n",
        "Please refer to [this document](https://scikit-learn.org/stable/modules/generated/sklearn.cluster.KMeans.html) to find out how to compute the sum of squared distances\n",
        "\n",
        "**We will be using the same features from the <ins>classification</ins> setting.\n",
        "To determine the best $k$ for the clustering, let's firstly generate an elbow plot.**\n",
        "- Consider number of clusters from 2 to 10\n",
        "- Set parameter `n_init` to 5.\n",
        "- Set random seed to 0\n",
        "\n",
        "**The elbow plot (4 points) will be manully graded**\n",
        "- x-axis is the \"number of clusters\", i.e. \"k\".\n",
        "- y-axis is the within-cluster sum of squares (WCSS) value\n",
        "- add proper titles for the plot and axis.\n",
        "\n",
        "Note that standardizing the data before performing k-means clustering is often recommended, but for illustration purpose, we do not standardize the input in this section."
      ]
    },
    {
      "cell_type": "markdown",
      "metadata": {
        "id": "nTF8RcWHtJf1"
      },
      "source": [
        "#### (a) Find the best number of clusters with the elbow plot [4 + 3 pts]"
      ]
    },
    {
      "cell_type": "code",
      "execution_count": null,
      "metadata": {
        "id": "XXEC7Ab9k_4W"
      },
      "outputs": [],
      "source": [
        "# TO-DO: Prepare the data (the same features from the classification setting, i.e. excluding \"booking_status\")\n",
        "# stores features dataframe into variable called \"features\"\n",
        "features = encoded_df_reservations.drop(axis =1, columns = ['booking_status'])"
      ]
    },
    {
      "cell_type": "code",
      "execution_count": null,
      "metadata": {
        "id": "frRJFXs9m-NT"
      },
      "outputs": [],
      "source": [
        "# Import the necessary libraries\n",
        "from sklearn.cluster import KMeans\n",
        "\n",
        "# TO-DO: [MANUALLY GRADED: 4 points]\n",
        "#   for k ranges from 2 to 10, fit on \"features\" to generate an elbow plot\n",
        "distortions = []\n",
        "max_k = 10\n",
        "for i in range(2,max_k+1):\n",
        "  km = KMeans(n_clusters=i,\n",
        "              n_init=5,\n",
        "              random_state=0)\n",
        "  km.fit(features)\n",
        "  # The distortion is called inertia in SciKit\n",
        "  distortions.append(km.inertia_)\n",
        "\n"
      ]
    },
    {
      "cell_type": "code",
      "execution_count": null,
      "metadata": {
        "colab": {
          "base_uri": "https://localhost:8080/",
          "height": 487
        },
        "id": "oEOtVgLhZrCw",
        "outputId": "d3d1c199-19ff-4a8d-e8c1-fe5dad0b6823"
      },
      "outputs": [
        {
          "data": {
            "image/png": "[encoded data removed]",
            "text/plain": [
              "<Figure size 640x480 with 1 Axes>"
            ]
          },
          "metadata": {},
          "output_type": "display_data"
        }
      ],
      "source": [
        "plt.plot(range(2,max_k+1), distortions, marker='o')\n",
        "plt.xlabel('within-cluster sum of squares  (k)')\n",
        "plt.ylabel('within-cluster sum of squares (WCSS)')\n",
        "plt.title('Number of Clusters vs  within-cluster sum of squares ')\n",
        "plt.show()"
      ]
    },
    {
      "cell_type": "code",
      "execution_count": null,
      "metadata": {
        "colab": {
          "base_uri": "https://localhost:8080/"
        },
        "id": "DMZqEOq7rW95",
        "outputId": "320ce3eb-0b4b-425c-d8f8-fa362deab26b"
      },
      "outputs": [
        {
          "data": {
            "text/plain": [
              "48493035.86965159"
            ]
          },
          "execution_count": 67,
          "metadata": {},
          "output_type": "execute_result"
        }
      ],
      "source": [
        "# TO-DO: choose the best number of clusters (the elbow) and fill in\n",
        "number_of_cluster = 5\n",
        "\n",
        "# TO-DO: fill in the sum of squared distances for the best number of clusters\n",
        "wcss_elbow = distortions[number_of_cluster - 2]\n",
        "distortions[number_of_cluster - 2]\n"
      ]
    },
    {
      "cell_type": "code",
      "execution_count": null,
      "metadata": {
        "colab": {
          "base_uri": "https://localhost:8080/"
        },
        "id": "yAVyIyXssIuf",
        "outputId": "c406b134-9b27-4121-a469-ce2313fefec6"
      },
      "outputs": [
        {
          "name": "stdout",
          "output_type": "stream",
          "text": [
            "Correct! You earned 3/3 points. You are a star!\n",
            "\n",
            "Your submission has been successfully recorded in the gradebook.\n"
          ]
        }
      ],
      "source": [
        "# Grader (3 points)\n",
        "grader.grade(test_case_id = 'kmeans_elbow', answer = (number_of_cluster, wcss_elbow))"
      ]
    },
    {
      "cell_type": "markdown",
      "metadata": {
        "id": "EQLHFhzds7BC"
      },
      "source": [
        "#### (b) Re-fit with the best number of clusters [3 pts]"
      ]
    },
    {
      "cell_type": "code",
      "execution_count": null,
      "metadata": {
        "colab": {
          "base_uri": "https://localhost:8080/",
          "height": 73
        },
        "id": "WUcjqzqxszye",
        "outputId": "545dfa7d-4cbd-47b5-c8c7-5e205bccb2c3"
      },
      "outputs": [
        {
          "data": {
            "text/html": [
              "<style>#sk-container-id-1 {color: black;background-color: white;}#sk-container-id-1 pre{padding: 0;}#sk-container-id-1 div.sk-toggleable {background-color: white;}#sk-container-id-1 label.sk-toggleable__label {cursor: pointer;display: block;width: 100%;margin-bottom: 0;padding: 0.3em;box-sizing: border-box;text-align: center;}#sk-container-id-1 label.sk-toggleable__label-arrow:before {content: \"▸\";float: left;margin-right: 0.25em;color: #696969;}#sk-container-id-1 label.sk-toggleable__label-arrow:hover:before {color: black;}#sk-container-id-1 div.sk-estimator:hover label.sk-toggleable__label-arrow:before {color: black;}#sk-container-id-1 div.sk-toggleable__content {max-height: 0;max-width: 0;overflow: hidden;text-align: left;background-color: #f0f8ff;}#sk-container-id-1 div.sk-toggleable__content pre {margin: 0.2em;color: black;border-radius: 0.25em;background-color: #f0f8ff;}#sk-container-id-1 input.sk-toggleable__control:checked~div.sk-toggleable__content {max-height: 200px;max-width: 100%;overflow: auto;}#sk-container-id-1 input.sk-toggleable__control:checked~label.sk-toggleable__label-arrow:before {content: \"▾\";}#sk-container-id-1 div.sk-estimator input.sk-toggleable__control:checked~label.sk-toggleable__label {background-color: #d4ebff;}#sk-container-id-1 div.sk-label input.sk-toggleable__control:checked~label.sk-toggleable__label {background-color: #d4ebff;}#sk-container-id-1 input.sk-hidden--visually {border: 0;clip: rect(1px 1px 1px 1px);clip: rect(1px, 1px, 1px, 1px);height: 1px;margin: -1px;overflow: hidden;padding: 0;position: absolute;width: 1px;}#sk-container-id-1 div.sk-estimator {font-family: monospace;background-color: #f0f8ff;border: 1px dotted black;border-radius: 0.25em;box-sizing: border-box;margin-bottom: 0.5em;}#sk-container-id-1 div.sk-estimator:hover {background-color: #d4ebff;}#sk-container-id-1 div.sk-parallel-item::after {content: \"\";width: 100%;border-bottom: 1px solid gray;flex-grow: 1;}#sk-container-id-1 div.sk-label:hover label.sk-toggleable__label {background-color: #d4ebff;}#sk-container-id-1 div.sk-serial::before {content: \"\";position: absolute;border-left: 1px solid gray;box-sizing: border-box;top: 0;bottom: 0;left: 50%;z-index: 0;}#sk-container-id-1 div.sk-serial {display: flex;flex-direction: column;align-items: center;background-color: white;padding-right: 0.2em;padding-left: 0.2em;position: relative;}#sk-container-id-1 div.sk-item {position: relative;z-index: 1;}#sk-container-id-1 div.sk-parallel {display: flex;align-items: stretch;justify-content: center;background-color: white;position: relative;}#sk-container-id-1 div.sk-item::before, #sk-container-id-1 div.sk-parallel-item::before {content: \"\";position: absolute;border-left: 1px solid gray;box-sizing: border-box;top: 0;bottom: 0;left: 50%;z-index: -1;}#sk-container-id-1 div.sk-parallel-item {display: flex;flex-direction: column;z-index: 1;position: relative;background-color: white;}#sk-container-id-1 div.sk-parallel-item:first-child::after {align-self: flex-end;width: 50%;}#sk-container-id-1 div.sk-parallel-item:last-child::after {align-self: flex-start;width: 50%;}#sk-container-id-1 div.sk-parallel-item:only-child::after {width: 0;}#sk-container-id-1 div.sk-dashed-wrapped {border: 1px dashed gray;margin: 0 0.4em 0.5em 0.4em;box-sizing: border-box;padding-bottom: 0.4em;background-color: white;}#sk-container-id-1 div.sk-label label {font-family: monospace;font-weight: bold;display: inline-block;line-height: 1.2em;}#sk-container-id-1 div.sk-label-container {text-align: center;}#sk-container-id-1 div.sk-container {/* jupyter's `normalize.less` sets `[hidden] { display: none; }` but bootstrap.min.css set `[hidden] { display: none !important; }` so we also need the `!important` here to be able to override the default hidden behavior on the sphinx rendered scikit-learn.org. See: https://github.com/scikit-learn/scikit-learn/issues/21755 */display: inline-block !important;position: relative;}#sk-container-id-1 div.sk-text-repr-fallback {display: none;}</style><div id=\"sk-container-id-1\" class=\"sk-top-container\"><div class=\"sk-text-repr-fallback\"><pre>KMeans(n_clusters=5, n_init=5, random_state=0)</pre><b>In a Jupyter environment, please rerun this cell to show the HTML representation or trust the notebook. <br />On GitHub, the HTML representation is unable to render, please try loading this page with nbviewer.org.</b></div><div class=\"sk-container\" hidden><div class=\"sk-item\"><div class=\"sk-estimator sk-toggleable\"><input class=\"sk-toggleable__control sk-hidden--visually\" id=\"sk-estimator-id-1\" type=\"checkbox\" checked><label for=\"sk-estimator-id-1\" class=\"sk-toggleable__label sk-toggleable__label-arrow\">KMeans</label><div class=\"sk-toggleable__content\"><pre>KMeans(n_clusters=5, n_init=5, random_state=0)</pre></div></div></div></div></div>"
            ],
            "text/plain": [
              "KMeans(n_clusters=5, n_init=5, random_state=0)"
            ]
          },
          "execution_count": 69,
          "metadata": {},
          "output_type": "execute_result"
        }
      ],
      "source": [
        "# TO-DO: re-run the K-Means clustering with the best number of clusters, save the fitted model to `kmeans`\n",
        "kmeans = KMeans(n_clusters=5,\n",
        "              n_init=5,\n",
        "              random_state=0)\n",
        "kmeans.fit(features)"
      ]
    },
    {
      "cell_type": "code",
      "execution_count": null,
      "metadata": {
        "colab": {
          "base_uri": "https://localhost:8080/"
        },
        "id": "vF9gZHL6tkuo",
        "outputId": "f4582e58-45de-4581-9a6e-0900eebe24f5"
      },
      "outputs": [
        {
          "name": "stdout",
          "output_type": "stream",
          "text": [
            "Correct! You earned 3/3 points. You are a star!\n",
            "\n",
            "Your submission has been successfully recorded in the gradebook.\n"
          ]
        }
      ],
      "source": [
        "# Grader (3 points)\n",
        "grader.grade(test_case_id = 'refit_kmeans', answer = (Counter(kmeans.labels_), kmeans.n_features_in_))"
      ]
    },
    {
      "cell_type": "markdown",
      "metadata": {
        "id": "nyURjOkMcKPD"
      },
      "source": [
        "# **Part II:** Distributed Machine Learning with Spark (35  points)\n",
        "\n",
        "Apache Spark ML is a machine learning library that consists of common learning algorithms and utilities, including classification, regression, clustering, collaborative filtering, dimensionality reduction, and underlying optimization primitives.\n",
        "\n",
        "**Why Spark ML?**\n",
        "\n",
        "Moving to the Big Data Era requires heavy iterative computations on very large datasets. Standard implementations of machine learning algorithms require very powerful machines to be able to run. However, depending on high-end machines is not advantageous due to their high price and improper costs of scaling up. The idea of using distributed computing engines is to distribute the calculations to multiple low-end machines (commodity hardware) instead of a single high-end one. _This **definitely speeds up** the learning phase and allows us to create better models._\n",
        "\n",
        "Read more about it with the python documentation **[here](https://spark.apache.org/docs/latest/ml-guide.html)**.\n",
        "\n",
        "Run the code below to set up Spark.\n",
        "\n",
        "## _PENALTY WARNING_:\n",
        "We will very carefully go through the code in your notebook for this HW. Any student caught trying anything devious like using sklearn to avoid using SparkML in this section will get a **ZERO**."
      ]
    },
    {
      "cell_type": "markdown",
      "metadata": {
        "id": "PY9ShBxkOQT0"
      },
      "source": [
        "**Note:** The cell below may take upto **4-5 minutes** to run so be patient!"
      ]
    },
    {
      "cell_type": "code",
      "execution_count": null,
      "metadata": {
        "id": "9Eo8fwt8OcMa"
      },
      "outputs": [],
      "source": [
        "%%capture\n",
        "\n",
        "!apt install libkrb5-dev\n",
        "!wget https://downloads.apache.org/spark/spark-3.1.2/spark-3.1.2-bin-hadoop3.2.tgz\n",
        "!tar xf spark-3.1.2-bin-hadoop3.2.tgz\n",
        "!pip install findspark\n",
        "!pip install sparkmagic\n",
        "!pip install pyspark\n",
        "! pip install pyspark --user\n",
        "! pip install seaborn --user\n",
        "! pip install plotly --user\n",
        "! pip install imageio --user\n",
        "! pip install folium --user"
      ]
    },
    {
      "cell_type": "code",
      "execution_count": null,
      "metadata": {
        "id": "lwqTpkc3Ogz3"
      },
      "outputs": [],
      "source": [
        "import pyspark\n",
        "from pyspark.sql import SQLContext\n",
        "from pyspark.sql import SparkSession\n",
        "from pyspark.sql.types import *\n",
        "import pyspark.sql.functions as F\n",
        "\n",
        "spark = SparkSession.builder.appName('bigdata-hw4').getOrCreate()\n",
        "sqlContext = SQLContext(spark)"
      ]
    },
    {
      "cell_type": "code",
      "execution_count": null,
      "metadata": {
        "id": "WAjmBWz7Oqs0"
      },
      "outputs": [],
      "source": [
        "%load_ext sparkmagic.magics"
      ]
    },
    {
      "cell_type": "code",
      "execution_count": null,
      "metadata": {
        "id": "TfQ72cpUOr3l"
      },
      "outputs": [],
      "source": [
        "# Graph section\n",
        "import networkx as nx\n",
        "\n",
        "# SQLite RDBMS\n",
        "import sqlite3\n",
        "\n",
        "import os\n",
        "os.environ['SPARK_HOME'] = '/content/spark-3.1.2-bin-hadoop3.2'\n",
        "os.environ[\"JAVA_HOME\"] = \"/usr/lib/jvm/java-8-openjdk-amd64\""
      ]
    },
    {
      "cell_type": "markdown",
      "metadata": {
        "id": "6F4x_ia7RGyp"
      },
      "source": [
        "## **2.1** Initializing Spark Data [Total: 2 Points]\n",
        "\n",
        "We have the Spark setup ready, and we now need the data for our ML algorithms. We will use the data you processed in Part I, but in Spark."
      ]
    },
    {
      "cell_type": "markdown",
      "metadata": {
        "id": "WYTG07Kq4E82"
      },
      "source": [
        "### **2.1.0** Converting the Pandas Dataframe into a Spark Dataframe\n",
        "\n",
        "Read the `encoded_df_reservations` that you created in Part I into a Spark dataframe (`sdf`) and name the SDF as `reservations_sdf`. \\\\\n",
        "**Note:** Just like Part I, the target variable (label) for this section will be `\"booking_status\"`."
      ]
    },
    {
      "cell_type": "code",
      "execution_count": null,
      "metadata": {
        "colab": {
          "background_save": true
        },
        "id": "UQtC3kw7rf1V"
      },
      "outputs": [],
      "source": [
        "#TO-DO: Read encoded_df_reservations into a Spark Dataframe called reservations_sdf\n",
        "#encoded_df_reservations = encoded_df_reservations.astype({\"booking_status\": })\n",
        "encoded_df_reservations['booking_status'] = encoded_df_reservations['booking_status'].astype(float)\n",
        "reservations_sdf = spark.createDataFrame(encoded_df_reservations)"
      ]
    },
    {
      "cell_type": "markdown",
      "metadata": {
        "id": "ywmJD03O0Zas"
      },
      "source": [
        "Print out the Dataframe Schema and verify the datatypes. If you did everything correctly so far, the schema should be:\n",
        "```\n",
        "root\n",
        " |-- no_of_adults: long (nullable = true)\n",
        " |-- no_of_children: long (nullable = true)\n",
        " |-- no_of_weekend_nights: long (nullable = true)\n",
        " |-- no_of_week_nights: long (nullable = true)\n",
        " |-- required_car_parking_space: long (nullable = true)\n",
        " |-- lead_time: long (nullable = true)\n",
        " |-- arrival_year: long (nullable = true)\n",
        " |-- arrival_month: long (nullable = true)\n",
        " |-- arrival_date: long (nullable = true)\n",
        " |-- repeated_guest: long (nullable = true)\n",
        " |-- no_of_previous_cancellations: long (nullable = true)\n",
        " |-- no_of_previous_bookings_not_canceled: long (nullable = true)\n",
        " |-- avg_price_per_room: double (nullable = true)\n",
        " |-- no_of_special_requests: long (nullable = true)\n",
        " |-- booking_status: double (nullable = true)\n",
        " |-- type_of_meal_plan_Meal Plan 1: long (nullable = true)\n",
        " |-- type_of_meal_plan_Meal Plan 2: long (nullable = true)\n",
        " |-- type_of_meal_plan_Meal Plan 3: long (nullable = true)\n",
        " |-- type_of_meal_plan_Not Selected: long (nullable = true)\n",
        " |-- room_type_reserved_Room_Type 1: long (nullable = true)\n",
        " |-- room_type_reserved_Room_Type 2: long (nullable = true)\n",
        " |-- room_type_reserved_Room_Type 3: long (nullable = true)\n",
        " |-- room_type_reserved_Room_Type 4: long (nullable = true)\n",
        " |-- room_type_reserved_Room_Type 5: long (nullable = true)\n",
        " |-- room_type_reserved_Room_Type 6: long (nullable = true)\n",
        " |-- room_type_reserved_Room_Type 7: long (nullable = true)\n",
        " |-- market_segment_type_Aviation: long (nullable = true)\n",
        " |-- market_segment_type_Complementary: long (nullable = true)\n",
        " |-- market_segment_type_Corporate: long (nullable = true)\n",
        " |-- market_segment_type_Offline: long (nullable = true)\n",
        " |-- market_segment_type_Online: long (nullable = true)\n",
        "```\n",
        "\n",
        "**Note:** Especially ensure that the target variable is of the datatype `double`. Cast it to the correct datatype, if needed."
      ]
    },
    {
      "cell_type": "code",
      "execution_count": null,
      "metadata": {
        "colab": {
          "background_save": true
        },
        "id": "URd9g_An0qVY",
        "outputId": "53e3af76-16f8-4e01-d671-b1c607bf9ea9"
      },
      "outputs": [
        {
          "name": "stdout",
          "output_type": "stream",
          "text": [
            "root\n",
            " |-- no_of_adults: long (nullable = true)\n",
            " |-- no_of_children: long (nullable = true)\n",
            " |-- no_of_weekend_nights: long (nullable = true)\n",
            " |-- no_of_week_nights: long (nullable = true)\n",
            " |-- required_car_parking_space: long (nullable = true)\n",
            " |-- lead_time: long (nullable = true)\n",
            " |-- arrival_year: long (nullable = true)\n",
            " |-- arrival_month: long (nullable = true)\n",
            " |-- arrival_date: long (nullable = true)\n",
            " |-- repeated_guest: long (nullable = true)\n",
            " |-- no_of_previous_cancellations: long (nullable = true)\n",
            " |-- no_of_previous_bookings_not_canceled: long (nullable = true)\n",
            " |-- avg_price_per_room: double (nullable = true)\n",
            " |-- no_of_special_requests: long (nullable = true)\n",
            " |-- booking_status: double (nullable = true)\n",
            " |-- type_of_meal_plan_Meal Plan 1: long (nullable = true)\n",
            " |-- type_of_meal_plan_Meal Plan 2: long (nullable = true)\n",
            " |-- type_of_meal_plan_Meal Plan 3: long (nullable = true)\n",
            " |-- type_of_meal_plan_Not Selected: long (nullable = true)\n",
            " |-- room_type_reserved_Room_Type 1: long (nullable = true)\n",
            " |-- room_type_reserved_Room_Type 2: long (nullable = true)\n",
            " |-- room_type_reserved_Room_Type 3: long (nullable = true)\n",
            " |-- room_type_reserved_Room_Type 4: long (nullable = true)\n",
            " |-- room_type_reserved_Room_Type 5: long (nullable = true)\n",
            " |-- room_type_reserved_Room_Type 6: long (nullable = true)\n",
            " |-- room_type_reserved_Room_Type 7: long (nullable = true)\n",
            " |-- market_segment_type_Aviation: long (nullable = true)\n",
            " |-- market_segment_type_Complementary: long (nullable = true)\n",
            " |-- market_segment_type_Corporate: long (nullable = true)\n",
            " |-- market_segment_type_Offline: long (nullable = true)\n",
            " |-- market_segment_type_Online: long (nullable = true)\n",
            "\n"
          ]
        }
      ],
      "source": [
        "# TO-DO: Verify that the schema of your Spark dataframe matches the above\n",
        "#        Make sure to double-check that the target variable i.e. booking_status is of type \"double\"\n",
        "#import org.apache.spark.sql.functions.col\n",
        "#import org.apache.spark.sql.types.DoubleType\n",
        "\n",
        "#reservations_sdf.withColumn(\"booking_status\",col(\"booking_status\").cast(DoubleType))\n",
        "reservations_sdf.printSchema()"
      ]
    },
    {
      "cell_type": "markdown",
      "metadata": {
        "id": "X3WUlDEv46rH"
      },
      "source": [
        "### **2.1.1** Setting Up a VectorAssembler\n",
        "\n",
        "Great! We have the processed data now. For Spark ML, we need to create a feature column which has all features concatenated as a list, and a single column for labels (which we already have!)\n",
        "We will use `VectorAssembler()` to create a feature vector from all our features, and we will call this vectorized variable as “features”.\n",
        "\n",
        "First, list all column names in `reservations_sdf` and store them in a list variable called `all_columns`."
      ]
    },
    {
      "cell_type": "code",
      "execution_count": null,
      "metadata": {
        "colab": {
          "background_save": true
        },
        "id": "Ya0DE8ml2YPj"
      },
      "outputs": [],
      "source": [
        "# TO-DO: store all column name in the data_sdf in a list called \"all_columns\"\n",
        "all_columns = reservations_sdf.columns"
      ]
    },
    {
      "cell_type": "markdown",
      "metadata": {
        "id": "OAMDrTU157iA"
      },
      "source": [
        "Create a list of column(s) you don't want to include as your features. Name this list `drop_columns`."
      ]
    },
    {
      "cell_type": "code",
      "execution_count": null,
      "metadata": {
        "colab": {
          "background_save": true
        },
        "id": "tbcp9QqH5_l0"
      },
      "outputs": [],
      "source": [
        "# TO-DO: Create \"drop_columns\"\n",
        "drop_columns = ['booking_status']"
      ]
    },
    {
      "cell_type": "markdown",
      "metadata": {
        "id": "j56ev2Mr6MZN"
      },
      "source": [
        "Now, using `drop_columns`, create a list called `feature_columns` that only contains the names of the columns that would be used as features for our ML models."
      ]
    },
    {
      "cell_type": "code",
      "execution_count": null,
      "metadata": {
        "colab": {
          "background_save": true
        },
        "id": "kMcrRpJb6Xo-",
        "outputId": "e3dba40f-5a31-4430-930f-659066ffc1ab"
      },
      "outputs": [
        {
          "data": {
            "text/plain": [
              "['market_segment_type_Corporate',\n",
              " 'arrival_month',\n",
              " 'arrival_year',\n",
              " 'type_of_meal_plan_Not Selected',\n",
              " 'room_type_reserved_Room_Type 4',\n",
              " 'avg_price_per_room',\n",
              " 'no_of_previous_cancellations',\n",
              " 'type_of_meal_plan_Meal Plan 2',\n",
              " 'type_of_meal_plan_Meal Plan 1',\n",
              " 'room_type_reserved_Room_Type 7',\n",
              " 'no_of_previous_bookings_not_canceled',\n",
              " 'repeated_guest',\n",
              " 'no_of_weekend_nights',\n",
              " 'required_car_parking_space',\n",
              " 'type_of_meal_plan_Meal Plan 3',\n",
              " 'lead_time',\n",
              " 'arrival_date',\n",
              " 'market_segment_type_Offline',\n",
              " 'no_of_special_requests',\n",
              " 'room_type_reserved_Room_Type 1',\n",
              " 'room_type_reserved_Room_Type 5',\n",
              " 'room_type_reserved_Room_Type 6',\n",
              " 'market_segment_type_Complementary',\n",
              " 'market_segment_type_Aviation',\n",
              " 'room_type_reserved_Room_Type 2',\n",
              " 'room_type_reserved_Room_Type 3',\n",
              " 'no_of_children',\n",
              " 'no_of_adults',\n",
              " 'no_of_week_nights',\n",
              " 'market_segment_type_Online']"
            ]
          },
          "execution_count": 79,
          "metadata": {},
          "output_type": "execute_result"
        }
      ],
      "source": [
        "# TO-DO: Create the \"feature_columns\" list\n",
        "feature_columns = list(set(all_columns).difference(drop_columns))\n",
        "feature_columns"
      ]
    },
    {
      "cell_type": "code",
      "execution_count": null,
      "metadata": {
        "colab": {
          "background_save": true
        },
        "id": "B5_jVWBI6znW",
        "outputId": "7cbd6caf-f9b9-49aa-ac2f-2d0630a2d40a"
      },
      "outputs": [
        {
          "name": "stdout",
          "output_type": "stream",
          "text": [
            "Correct! You earned 2/2 points. You are a star!\n",
            "\n",
            "Your submission has been successfully recorded in the gradebook.\n"
          ]
        }
      ],
      "source": [
        "# Grader cell [2 points]\n",
        "grader.grade(test_case_id = 'check_feature_columns', answer = feature_columns)"
      ]
    },
    {
      "cell_type": "markdown",
      "metadata": {
        "id": "JFDTSMCM72uR"
      },
      "source": [
        "Finally, create a [VectorAssembler](https://spark.apache.org/docs/3.1.3/api/python/reference/api/pyspark.ml.feature.VectorAssembler.html) object with the columns that you want to use as features. Name your output column as `features` (i.e. they are the features that will be used for SparkML)."
      ]
    },
    {
      "cell_type": "code",
      "execution_count": null,
      "metadata": {
        "colab": {
          "background_save": true
        },
        "id": "WmAZT38o7zxM"
      },
      "outputs": [],
      "source": [
        "# TO-DO: Import required library and create VectorAssembler object (to be used later)\n",
        "from pyspark.ml.feature import VectorAssembler\n",
        "vecAssembler = VectorAssembler(inputCols=feature_columns, outputCol=\"features\")"
      ]
    },
    {
      "cell_type": "markdown",
      "metadata": {
        "id": "WYgt35u-68XA"
      },
      "source": [
        "## **2.2** Preprocessing: Pipeline and Train-Test Split [Total: 3 Points]\n",
        "\n",
        "Now that we have a VectorAssembler object ready, let's use it on our Spark dataframe to get the concatenated features column. To do this, we implement a [Pipeline](https://spark.apache.org/docs/latest/api/python/reference/api/pyspark.ml.Pipeline.html), which can be used to streamline multiple preprocessing stages at once. For this data, we just need a single stage with the assembler, but you could have other stages before that where you perform operations on the data like converting categorical strings in the features to numeric values, or do feature scaling operations.\n",
        "\n",
        "We will create a pipeline with a single stage — the assembler. Fit the pipeline on `reservations_sdf` to create the transformed dataframe and name it `processed_reservations_sdf`.\n"
      ]
    },
    {
      "cell_type": "code",
      "execution_count": null,
      "metadata": {
        "colab": {
          "background_save": true
        },
        "id": "PozlPEwbMw9l"
      },
      "outputs": [],
      "source": [
        "# TO-DO: Import required libraries\n",
        "from pyspark.ml import Pipeline\n",
        "\n",
        "# TO-DO: Define a pipeline object\n",
        "pipeline = Pipeline(stages=[vecAssembler])\n",
        "\n",
        "# fit the pipeline model and transform the data as defined\n",
        "pipeline_model = pipeline.fit(reservations_sdf)\n",
        "\n",
        "\n",
        "\n",
        "# TO-DO: Fit and transform the pipeline on the data and store the transformed sdf as \"processed_reservations_sdf\"\n",
        "processed_reservations_sdf = pipeline_model.transform(reservations_sdf)\n"
      ]
    },
    {
      "cell_type": "markdown",
      "metadata": {
        "id": "3LUua0RlNLpk"
      },
      "source": [
        "Now that we have the data in the format we need, we will create our train and test sets.\n",
        "\n",
        "Conduct a train-test split where 80% of the data is assigned to the training set while the remaining 20% is assigned to the testing set.\n",
        "\n",
        "- Name these sets as `train_sdf` and `test_sdf` respectively.\n",
        "- Set the variable `random_seed` to 42 and then add the argument `seed = random_seed` in the function to fix the random state in order to ensure consistency with our results."
      ]
    },
    {
      "cell_type": "code",
      "execution_count": null,
      "metadata": {
        "colab": {
          "background_save": true
        },
        "id": "CXym9xONNrzB"
      },
      "outputs": [],
      "source": [
        "# TO-DO: Assign appropriate value to the random_seed variable\n",
        "\n",
        "random_seed = 42\n",
        "\n",
        "# TO-DO: Do 80/20 train-test split with seed = random_seed and store them as \"train_sdf\" and \"test_sdf\"\n",
        "train_sdf, test_sdf = processed_reservations_sdf.randomSplit([0.8, 0.2], seed=random_seed)"
      ]
    },
    {
      "cell_type": "code",
      "execution_count": null,
      "metadata": {
        "id": "kNPtpqJyNuWA"
      },
      "outputs": [],
      "source": [
        "# Grader (3 points)\n",
        "grader.grade(test_case_id = 'check_train_test_split_spark', answer = (train_sdf.count(), test_sdf.count(), random_seed))"
      ]
    },
    {
      "cell_type": "markdown",
      "metadata": {
        "id": "ZlAv_PlBcYDr"
      },
      "source": [
        "## **2.3** Modeling (SparkML) [Total: 30 Points]\n",
        "\n",
        "Time to do the cool stuff! We will work on various types of models using SparkML to see the difference in implementation from sklearn."
      ]
    },
    {
      "cell_type": "markdown",
      "metadata": {
        "id": "0s65E3utg0Zo"
      },
      "source": [
        "### **2.3.1** Vanilla Logistic Regression [6 pts]\n",
        "\n",
        "Let's train an **unregularized** Logistic Regression model to our data and try to predict whether the `booking_status` will be cancelled or not.\n",
        "\n",
        "This time, we will use \"Big\" data tools to help us build a Logistic Regression model for binary classification. Look up the documentation online and try to understand how to implement this.\n",
        "\n",
        "**Note**: Make sure to set the parameter `maxIter` to an appropriate value (e.g. 5) for fast computation."
      ]
    },
    {
      "cell_type": "code",
      "execution_count": null,
      "metadata": {
        "id": "FXDpE8KMuKYF"
      },
      "outputs": [],
      "source": [
        "train_sdf.show(5)"
      ]
    },
    {
      "cell_type": "code",
      "execution_count": null,
      "metadata": {
        "id": "IktoDMkWhn9p"
      },
      "outputs": [],
      "source": [
        "# TO-DO: Import required library for Logistic Regression\n",
        "from pyspark.ml.classification import LogisticRegression\n",
        "\n",
        "# TO-DO: Instantiate and fit Logistic Regression model to training data\n",
        "\n",
        "lr = LogisticRegression(featuresCol = 'features', labelCol = 'booking_status', maxIter =5)\n",
        "lr_model = lr.fit(train_sdf)\n",
        "\n"
      ]
    },
    {
      "cell_type": "markdown",
      "metadata": {
        "id": "uQWTQGRjiy2A"
      },
      "source": [
        "Calculate the training accuracy using the model's summary and store it in a variable called `train_accuracy`."
      ]
    },
    {
      "cell_type": "code",
      "execution_count": null,
      "metadata": {
        "id": "XjyYCYw6i1sD"
      },
      "outputs": [],
      "source": [
        "# TO-DO: Get training accuracy and store it as `train_accuracy`\n",
        "train_accuracy = lr_model.summary.accuracy"
      ]
    },
    {
      "cell_type": "markdown",
      "metadata": {
        "id": "C20Hy2qii_OO"
      },
      "source": [
        "Now, let's find out how good the model actually is and see if it overfits to the training data.\n",
        "\n",
        "Predict the labels `\"booking_status\"` for your test data and store them as `predictions` _(Hint: it is called 'transform' in SparkML)_"
      ]
    },
    {
      "cell_type": "code",
      "execution_count": null,
      "metadata": {
        "id": "szq8zQ3QjPWp"
      },
      "outputs": [],
      "source": [
        "# TO-DO: Make predictions on testing set and store it as \"predictions\"\n",
        "predictions = lr_model.transform(test_sdf)"
      ]
    },
    {
      "cell_type": "markdown",
      "metadata": {
        "id": "7lyQWxLqjzFB"
      },
      "source": [
        "To get the test accuracy, we will make use of a **confusion matrix**. It is used to consolidate the predictive performance of a model into a single table. In a binary classification scenario, it looks like this:\n",
        "\n",
        "![Screenshot 2023-03-17 at 4.06.06 AM.png](data:image/png;base64,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)\n"
      ]
    },
    {
      "cell_type": "markdown",
      "metadata": {
        "id": "ZzEQ4ltcnKZg"
      },
      "source": [
        "Given the confusion matrix, we can calculate various metrics such as accuracy, precision, recall, F1 score etc.\n",
        "\n",
        "For our task, we will calculate the test accuracy. The formula for this is: \\\\\n",
        "\n",
        "> Accuracy = $\\frac{TP + TN}{TP + FP + TN + FN}$"
      ]
    },
    {
      "cell_type": "markdown",
      "metadata": {
        "id": "FBjkb5KAn2rl"
      },
      "source": [
        "Evaluate the performance using the Confusion Matrix using [MulticlassMetrics](https://spark.apache.org/docs/latest/api/python/reference/api/pyspark.mllib.evaluation.MulticlassMetrics.html) object in the SparkML Regression library. Store the Confusion Matrix as an numpy array named  `confusion_matrix`. \\\\\n",
        "\n",
        "(*Ignore any warnings you may get*)"
      ]
    },
    {
      "cell_type": "code",
      "execution_count": null,
      "metadata": {
        "id": "EpwCqoibyvcU"
      },
      "outputs": [],
      "source": [
        "predictions"
      ]
    },
    {
      "cell_type": "code",
      "execution_count": null,
      "metadata": {
        "id": "IJ7JKag7jUMW"
      },
      "outputs": [],
      "source": [
        "# TO-DO: Import required libraries\n",
        "from pyspark.ml.evaluation import MulticlassClassificationEvaluator\n",
        "from pyspark.mllib.evaluation import MulticlassMetrics\n",
        "\n",
        "# TO-DO: Select appropriate columns to use MulticlassMetrics\n",
        "predictionsAndLabels = predictions.select(['prediction','booking_status'])\n",
        "\n",
        "\n",
        "# TO-DO: Instantiate metrics objects\n",
        "metrics = MulticlassMetrics(predictionsAndLabels.rdd.map(tuple))\n",
        "\n",
        "# TO-DO: Create confusion matrix and store it as a numpy array named \"confusion_matrix\"\n",
        "confusion_matrix = metrics.confusionMatrix().toArray()"
      ]
    },
    {
      "cell_type": "markdown",
      "metadata": {
        "id": "xWDnRN0upGh1"
      },
      "source": [
        "Now, calculate the test accuracy using the Confusion Matrix obtained above and store it in a variable called `test_accuracy`."
      ]
    },
    {
      "cell_type": "code",
      "execution_count": null,
      "metadata": {
        "id": "K3IRPWAEpDpO"
      },
      "outputs": [],
      "source": [
        "# TO-DO: Calculate test accuracy using the confusion matrix and store it as \"test_accuracy\"\n",
        "test_accuracy = (confusion_matrix[0][0] + confusion_matrix[1][1]) /(confusion_matrix[0][0] + confusion_matrix[0][1] + confusion_matrix[1][0]+ confusion_matrix[1][1])"
      ]
    },
    {
      "cell_type": "code",
      "execution_count": null,
      "metadata": {
        "id": "jAcHDaDPqp4Z"
      },
      "outputs": [],
      "source": [
        "# Grader cell (6 points)\n",
        "grader.grade(test_case_id = 'check_unreg_logistic', answer = (train_accuracy, test_accuracy, confusion_matrix))"
      ]
    },
    {
      "cell_type": "markdown",
      "metadata": {
        "id": "zu_wBe65VrW9"
      },
      "source": [
        "### **2.3.2** Regularized Logistic Regression [8 pts]\n",
        "\n",
        "Now, we will add regularization – LASSO (L1), Ridge (L2) and elastic net (combination of L1 and L2), to avoid overfitting. You can play around with different regularization hyperparameters when initializing the 3 different regularized logistic regression models.\n",
        "\n",
        "Compare these with each other and with the unregularized regression performed in 2.3.1.\n",
        "\n",
        "Make sure to evaluate the performance on test data using the same methodology as above (using a confusion matrix to calculate the accuracy).\n",
        "\n",
        "**Note**: Just like 2.3.1, set `maxIter` to a suitable value."
      ]
    },
    {
      "cell_type": "markdown",
      "metadata": {
        "id": "fSEYNPEPYBJk"
      },
      "source": [
        "#### (a) LASSO (L1)\n",
        "\n",
        "First, implement a LASSO Logistic Regression model using SparkML and call it `l1_model`, fit it on `train_sdf` and get predictions using `test_sdf`. Get the training accuracy and store it as `l1_train_accuracy`."
      ]
    },
    {
      "cell_type": "code",
      "execution_count": null,
      "metadata": {
        "colab": {
          "background_save": true
        },
        "id": "xlC3TNEnYzD2"
      },
      "outputs": [],
      "source": [
        "# TO-DO: Instantiate LASSO/L1 regularized model as \"l1_model\"\n",
        "l1_model = LogisticRegression(featuresCol = 'features', labelCol = 'booking_status', elasticNetParam=1, regParam=.1, maxIter= 5)\n",
        "\n",
        "# TO-DO: Fit and Transform using \"l1_model\"\n",
        "l1_model = l1_model.fit(train_sdf)\n",
        "#l1_model = l1_model.transform(train_sdf)\n",
        "\n",
        "\n",
        "# TO-DO: Store training accuracy as \"l1_train_accuracy\"\n",
        "l1_train_accuracy = l1_model.summary.accuracy\n",
        "#l1_model = l1_model.transform(train_sdf)\n"
      ]
    },
    {
      "cell_type": "markdown",
      "metadata": {
        "id": "YZTFIUbicwmh"
      },
      "source": [
        "From the predictions, create a confusion matrix and use it to get the test accuracy. Store this accuracy value as `l1_test_accuracy`."
      ]
    },
    {
      "cell_type": "code",
      "execution_count": null,
      "metadata": {
        "colab": {
          "background_save": true
        },
        "id": "GXTGezetajEi"
      },
      "outputs": [],
      "source": [
        "predictions = l1_model.transform(test_sdf)\n",
        "# TO-DO: Create the Confusion matrix\n",
        "\n",
        "predictionsAndLabels = predictions.select(['prediction','booking_status'])\n",
        "metrics = MulticlassMetrics(predictionsAndLabels.rdd.map(tuple))\n",
        "confusion_matrix = metrics.confusionMatrix().toArray()\n",
        "\n",
        "# TO-DO: Calculate the test accuracy as done in the previous section. Store test accuracy as \"l1_test_accuracy\"\n",
        "l1_test_accuracy = (confusion_matrix[0][0] + confusion_matrix[1][1]) /(confusion_matrix[0][0] + confusion_matrix[0][1] + confusion_matrix[1][0]+ confusion_matrix[1][1])\n",
        "\n",
        "\n"
      ]
    },
    {
      "cell_type": "markdown",
      "metadata": {
        "id": "-O7Oq8KPdD9h"
      },
      "source": [
        "#### (b) Ridge (L2)\n",
        "\n",
        "Next, implement a Ridge Logistic Regression model using SparkML and call it `l2_model`, fit it on `train_sdf` and get predictions using `test_sdf`. Get the training accuracy and store it as `l2_train_accuracy`."
      ]
    },
    {
      "cell_type": "code",
      "execution_count": null,
      "metadata": {
        "colab": {
          "background_save": true
        },
        "id": "BzxfiooYdO-s"
      },
      "outputs": [],
      "source": [
        "# TO-DO: Instantiate Ridge/L2 regularized model as \"l2_model\"\n",
        "l2_model = LogisticRegression(featuresCol = 'features', labelCol = 'booking_status', elasticNetParam=0,regParam=.1, maxIter= 5)\n",
        "\n",
        "\n",
        "# TO-DO: Fit and Transform using \"l2_model\"\n",
        "l2_model = l2_model.fit(train_sdf)\n",
        "\n",
        "# TO-DO: Store training accuracy as \"l2_train_accuracy\"\n",
        "l2_train_accuracy = l2_model.summary.accuracy\n"
      ]
    },
    {
      "cell_type": "markdown",
      "metadata": {
        "id": "z6BD1lsvdjZS"
      },
      "source": [
        "From the predictions, create a confusion matrix and use it to get the test accuracy. Store this accuracy value as `l2_test_accuracy`."
      ]
    },
    {
      "cell_type": "code",
      "execution_count": null,
      "metadata": {
        "colab": {
          "background_save": true
        },
        "id": "vron91efdi8s"
      },
      "outputs": [],
      "source": [
        "predictions = l2_model.transform(test_sdf)\n",
        "# TO-DO: Create the Confusion matrix\n",
        "predictionsAndLabels = predictions.select(['prediction','booking_status'])\n",
        "metrics = MulticlassMetrics(predictionsAndLabels.rdd.map(tuple))\n",
        "confusion_matrix = metrics.confusionMatrix().toArray()\n",
        "\n",
        "# TO-DO: Calculate the test accuracy as done in the previous section. Store test accuracy as \"l2_test_accuracy\"\n",
        "l2_test_accuracy = (confusion_matrix[0][0] + confusion_matrix[1][1]) /(confusion_matrix[0][0] + confusion_matrix[0][1] + confusion_matrix[1][0]+ confusion_matrix[1][1])"
      ]
    },
    {
      "cell_type": "markdown",
      "metadata": {
        "id": "fUibpxvqeCsz"
      },
      "source": [
        "#### (c) Elastic Net\n",
        "\n",
        "Finally, implement an Elastic Net Logistic Regression model using SparkML and call it `en_model`, fit it on `train_sdf` and get predictions using `test_sdf`. Get the training accuracy and store it as `en_train_accuracy`."
      ]
    },
    {
      "cell_type": "code",
      "execution_count": null,
      "metadata": {
        "id": "h_j1zU38eSAS"
      },
      "outputs": [],
      "source": [
        "# TO-DO: Instantiate Elastic Net regularized model as \"en_model\"\n",
        "en_model = LogisticRegression(featuresCol = 'features', labelCol = 'booking_status', elasticNetParam=.8, regParam = .1, maxIter= 5)\n",
        "\n",
        "\n",
        "\n",
        "# TO-DO: Fit and Transform using \"en_model\"\n",
        "en_model = en_model.fit(train_sdf)\n",
        "\n",
        "# TO-DO: Store training accuracy as \"en_train_accuracy\"\n",
        "en_train_accuracy = en_model.summary.accuracy"
      ]
    },
    {
      "cell_type": "markdown",
      "metadata": {
        "id": "-Xge3cFxecaU"
      },
      "source": [
        "From the predictions, create a confusion matrix and use it to get the test accuracy. Store this accuracy value as `en_test_accuracy`."
      ]
    },
    {
      "cell_type": "code",
      "execution_count": null,
      "metadata": {
        "id": "oI6OHfWJeeeX"
      },
      "outputs": [],
      "source": [
        "predictions = en_model.transform(test_sdf)\n",
        "# TO-DO: Create the Confusion matrix\n",
        "predictionsAndLabels = predictions.select(['prediction','booking_status'])\n",
        "metrics = MulticlassMetrics(predictionsAndLabels.rdd.map(tuple))\n",
        "confusion_matrix = metrics.confusionMatrix().toArray()\n",
        "# TO-DO: Calculate the test accuracy as done in the previous section. Store test accuracy as \"en_test_accuracy\"\n",
        "en_test_accuracy = (confusion_matrix[0][0] + confusion_matrix[1][1]) /(confusion_matrix[0][0] + confusion_matrix[0][1] + confusion_matrix[1][0]+ confusion_matrix[1][1])\n"
      ]
    },
    {
      "cell_type": "code",
      "execution_count": null,
      "metadata": {
        "id": "RU3LaLu6ewjQ"
      },
      "outputs": [],
      "source": [
        "#8 points\n",
        "#Grader cell\n",
        "grader.grade(test_case_id = 'check_reg_logistic', answer = (l1_model.getElasticNetParam(), l1_model.getRegParam(), l1_train_accuracy, l1_test_accuracy,\n",
        "                                                            l2_model.getElasticNetParam(), l2_model.getRegParam(), l2_train_accuracy, l2_test_accuracy,\n",
        "                                                            en_model.getElasticNetParam(), en_model.getRegParam(), en_train_accuracy, en_test_accuracy))"
      ]
    },
    {
      "cell_type": "markdown",
      "metadata": {
        "id": "H8k-KqujfWbA"
      },
      "source": [
        "### **2.3.3** Random Forest Classification [8 pts]\n",
        "\n",
        "If you are looking to win Kaggle competitions, you definitely must know about Random Forests, Boosted Trees, etc. These ensemble methods generalize and work surprisingly well for a lot of classification problems and sometimes for regression problems (though regression trees are not the focus of this course).\n",
        "\n",
        "Let's give it a go. Similar to what you did for the Logistic Regression model, create a Random Forest classifier model and name it `rf` and fit it to the training data. Call the fitted model `rf_model`.\n",
        "\n",
        "**Note1:** Set the `random_seed` to 42 and set the argument `seed = random_seed` while creating `rf` as a RandomForest object. \\\\\n",
        "**Note2:** Set `maxDepth` to a reasonable value (e.g. 10) to find a good balance between performance and computation time."
      ]
    },
    {
      "cell_type": "code",
      "execution_count": null,
      "metadata": {
        "id": "J-rKH7Qh0m4H"
      },
      "outputs": [],
      "source": [
        "# TO-DO: Import required libraries\n",
        "from pyspark.ml.classification import RandomForestClassifier\n",
        "\n",
        "# TO-DO: Set random_seed to 42\n",
        "random_seed = 42\n",
        "\n",
        "# TO-DO: Instantiate the RF Model and call it \"rf\", then fit it on the training data\n",
        "rf = RandomForestClassifier(featuresCol = 'features', labelCol = 'booking_status',seed = random_seed, maxDepth= 10)\n",
        "rf_model = rf.fit(train_sdf)"
      ]
    },
    {
      "cell_type": "markdown",
      "metadata": {
        "id": "M71HnmZ41eIy"
      },
      "source": [
        "This time, get predictions on both the training and testing sets, and store them as `train_pred` and `test_pred` respectively."
      ]
    },
    {
      "cell_type": "code",
      "execution_count": null,
      "metadata": {
        "id": "dzPe3ld01hhA"
      },
      "outputs": [],
      "source": [
        "# TO-DO: Get predictions and save to \"train_pred\" and \"test_pred\" respectively\n",
        "train_pred = rf_model.transform(train_sdf)\n",
        "test_pred = rf_model.transform(test_sdf)"
      ]
    },
    {
      "cell_type": "markdown",
      "metadata": {
        "id": "xcEQUtzP1tZ4"
      },
      "source": [
        "Evaluate using the accuracy metric again, similar to the previous sections.\n",
        "- Store the confusion matrices as `rf_train_cm` and `rf_test_cm` respectively.\n",
        "- Store the training and test accuracy as `rf_train_accuracy` and  `rf_test_accuracy` respectively."
      ]
    },
    {
      "cell_type": "code",
      "execution_count": null,
      "metadata": {
        "id": "es9Wql3B14TV"
      },
      "outputs": [],
      "source": [
        "#rf_train_accuracy = rf.summary.accuracy\n",
        "\n",
        "# TO-DO: Evaluate the prediction accuracy for train set and call it \"rf_train_accuracy\"\n",
        "predictionsAndLabels = train_pred.select(['prediction','booking_status'])\n",
        "metrics = MulticlassMetrics(predictionsAndLabels.rdd)\n",
        "rf_train_cm = metrics.confusionMatrix().toArray()\n",
        "rf_train_accuracy = (rf_train_cm[0][0] + rf_train_cm[1][1]) /(rf_train_cm[0][0] + rf_train_cm[0][1] + rf_train_cm[1][0]+ rf_train_cm[1][1])\n",
        "\n",
        "\n",
        "# TO-DO: Evaluate the prediction accuracy for test set and call it \"rf_test_accuracy\"\n",
        "predictionsAndLabels = test_pred.select(['prediction','booking_status'])\n",
        "metrics = MulticlassMetrics(predictionsAndLabels.rdd)\n",
        "rf_test_cm = metrics.confusionMatrix().toArray()\n",
        "rf_test_accuracy = (rf_test_cm[0][0] + rf_test_cm[1][1]) /(rf_test_cm[0][0] + rf_test_cm[0][1] + rf_test_cm[1][0]+ rf_test_cm[1][1])"
      ]
    },
    {
      "cell_type": "code",
      "execution_count": null,
      "metadata": {
        "id": "3VH0SRIs3m30"
      },
      "outputs": [],
      "source": [
        "# Grader (8 points)\n",
        "grader.grade(test_case_id = 'check_random_forest', answer = (rf_train_accuracy, train_pred.count(), rf_test_accuracy, test_pred.count(), rf_train_cm, rf_test_cm))"
      ]
    },
    {
      "cell_type": "markdown",
      "metadata": {
        "id": "n972zXod4DXF"
      },
      "source": [
        "### **2.3.4** Dimensionality Reduction Using PCA [8 pts]\n",
        "\n",
        "We will again use the powerful PCA to reduce the dimensions and project the data onto a lower dimensional space and fit a logistic regression on the new projected data."
      ]
    },
    {
      "cell_type": "markdown",
      "metadata": {
        "id": "LiL8evmIBhDL"
      },
      "source": [
        "Initialize a PCA model on SparkML, where you select an appropriate number of dimensions, and call it `pca`. Then, fit the model on the training data and get the PCA features from the trained model.\n",
        "\n",
        "**Hint**: Choose `k` for the PCA model using the explained variance plot you made earlier."
      ]
    },
    {
      "cell_type": "code",
      "execution_count": null,
      "metadata": {
        "id": "J4t4b6RECbRl"
      },
      "outputs": [],
      "source": [
        "# TO-DO: Import required libraries\n",
        "from pyspark.ml.feature import StandardScaler, PCA\n",
        "\n",
        "# TO-DO: Perform intermediate steps to address scale-variance in PCA\n",
        "scaler = StandardScaler(\n",
        "    inputCol = 'features',\n",
        "    outputCol = 'scaledFeatures',\n",
        "    withMean=True, withStd = False\n",
        ").fit(train_sdf)\n",
        "\n",
        "train_sdf_scaled = scaler.transform(train_sdf)\n",
        "\n",
        "# TO-DO: Instantiate PCA object as \"pca\" and then fit and transform.\n",
        "#        Make sure you make a reasonable choice for the number of Principal Components\n",
        "\n",
        "n_components = 17\n",
        "pca = PCA(\n",
        "    k = n_components,\n",
        "    inputCol = 'scaledFeatures',\n",
        "    outputCol = 'pcaFeatures'\n",
        "\n",
        ").fit(train_sdf_scaled)\n",
        "\n",
        "train_sdf_pca = pca.transform(train_sdf_scaled)"
      ]
    },
    {
      "cell_type": "markdown",
      "metadata": {
        "id": "IFxyRkmTDBta"
      },
      "source": [
        "Now, create a Logistic Regression model and train it using the PCA features."
      ]
    },
    {
      "cell_type": "code",
      "execution_count": null,
      "metadata": {
        "id": "QdX0LisYDcb1"
      },
      "outputs": [],
      "source": [
        "# TO-DO: Instantiate Logistic Regression model and call the model object \"lr_model\"\n",
        "\n",
        "lr_model = LogisticRegression(featuresCol = 'pcaFeatures', labelCol = 'booking_status', maxIter =5)\n",
        "\n",
        "\n",
        "# TO-DO: Fit Logistic Regression Model and get predictions\n",
        "lr_model = lr_model.fit(train_sdf_pca)\n",
        "test_sdf_scaled = scaler.transform(test_sdf)\n",
        "test_sdf_pca = pca.transform(test_sdf_scaled)\n",
        "predictions = lr_model.transform(test_sdf_pca)\n",
        "\n"
      ]
    },
    {
      "cell_type": "markdown",
      "metadata": {
        "id": "pz2c4099D_h-"
      },
      "source": [
        "Calculate the training accuracy using the model's summary and store it in a variable called `train_accuracy_pca`."
      ]
    },
    {
      "cell_type": "code",
      "execution_count": null,
      "metadata": {
        "id": "EafeNRLMD7Rh"
      },
      "outputs": [],
      "source": [
        "# TO-DO: Get training accuracy and store it as `train_accuracy_pca`\n",
        "train_accuracy_pca = lr_model.summary.accuracy"
      ]
    },
    {
      "cell_type": "markdown",
      "metadata": {
        "id": "DRTBu6AOEe-L"
      },
      "source": [
        "\n",
        "Evaulate the test performance by creating a confusion matrix and call it `confusion_matrix_pca`. Then, calculate the test accuracy using the confusion matrix  and store it as `test_accuracy_pca`."
      ]
    },
    {
      "cell_type": "code",
      "execution_count": null,
      "metadata": {
        "id": "6AbNje50EU2a"
      },
      "outputs": [],
      "source": [
        "# TO-DO: Create confusion matrix and store it as \"confusion_matrix_pca\"\n",
        "predictionsAndLabels = predictions.select(['prediction','booking_status'])\n",
        "metrics = MulticlassMetrics(predictionsAndLabels.rdd.map(tuple))\n",
        "confusion_matrix_pca = metrics.confusionMatrix().toArray()\n",
        "\n",
        "\n",
        "# TO-DO: Calculate test accuracy and store it as \"test_accuracy_pca\"\n",
        "test_accuracy_pca = (confusion_matrix_pca[0][0] + confusion_matrix_pca[1][1]) /(confusion_matrix_pca[0][0] + confusion_matrix_pca[0][1] + confusion_matrix_pca[1][0]+ confusion_matrix_pca[1][1])"
      ]
    },
    {
      "cell_type": "code",
      "execution_count": null,
      "metadata": {
        "id": "ighJ-OTRG1al"
      },
      "outputs": [],
      "source": [
        "# Grader cell (8 points)\n",
        "grader.grade(test_case_id = 'check_pca', answer = (pca.getK(), len(lr_model.coefficients), train_accuracy_pca, test_accuracy_pca, confusion_matrix_pca))"
      ]
    },
    {
      "cell_type": "markdown",
      "metadata": {
        "id": "jfH7LMHMGpgB"
      },
      "source": [
        "# Homework Submission Reminders & Penalties\n",
        "\n",
        "Good job! You have finished the homework :) The submission instructions are as follows:\n",
        "\n",
        "* **Double check** that you have the correct PennID (all numbers) in the autograder.\n",
        "\n",
        "* **Triple check** that you have all plots shown in this Colab notebook before submitting (otherwise, your submission will be subjected to a **penalty of -5 points**).\n",
        "\n",
        "*  Go to the \"File\" tab at the top left of the Colab UI, click \"Download .ipynb\" and then \"Download .py\".  **Rename** these two files to `homework4.ipynb` and `homework4.py` respectively and upload them to Gradescope.\n",
        "  - <ins>**WAIT UNTIL THE GRADESCOPE AUTOGRADER FINISHES RUNNING!**</ins> If we have to manually upload this for you after the deadline, **we will apply a penalty of -10 points** (this stacks with any other penatlies)\n",
        "\n",
        "* After the autograder finishes running, Remember to click on the \"Code\" tab and see what your `.ipynb` file looks like on Gradescope.\n",
        "  - Just like in HW2, if \"Large File Hidden\" shows up, you MUST fix it. Refer back to [Ed Post \\#957](https://edstem.org/us/courses/32226/discussion/2628740) from earlier in this Spring 2023 semester.\n",
        "\n",
        "* Post any issues with submission on Ed and make sure to keep in mind the late day policy.\n",
        "\n",
        "* After you submit your code, the teaching staff will manually grade your Colab notebook in order to validate the correctness of your code."
      ]
    }
  ],
  "metadata": {
    "colab": {
      "provenance": [],
      "include_colab_link": true
    },
    "kernelspec": {
      "display_name": "Python 3",
      "name": "python3"
    },
    "language_info": {
      "name": "python"
    }
  },
  "nbformat": 4,
  "nbformat_minor": 0
}